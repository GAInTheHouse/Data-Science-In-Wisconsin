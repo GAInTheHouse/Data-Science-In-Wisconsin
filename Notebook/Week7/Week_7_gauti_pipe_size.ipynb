{
 "cells": [
  {
   "cell_type": "code",
   "execution_count": 1,
   "metadata": {},
   "outputs": [],
   "source": [
    "import csv\n",
    "\n",
    "def process_csv(filename):\n",
    "    exampleFile = open(filename, encoding=\"utf-8\")\n",
    "    exampleReader = csv.reader(exampleFile)\n",
    "    exampleData = list(exampleReader)\n",
    "    exampleFile.close()\n",
    "    return exampleData\n",
    "\n",
    "# use process_csv to pull out the header and data rows\n",
    "csv_rows = process_csv(\"water_main_breaks.csv\")\n",
    "csv_header = csv_rows[0]\n",
    "csv_data = csv_rows[1:]"
   ]
  },
  {
   "cell_type": "code",
   "execution_count": 2,
   "metadata": {},
   "outputs": [
    {
     "data": {
      "text/plain": [
       "{'2007': 237,\n",
       " '2008': 197,\n",
       " '1988': 167,\n",
       " '1985': 169,\n",
       " '1984': 122,\n",
       " '1983': 130,\n",
       " '1989': 202,\n",
       " '1980': 153,\n",
       " '1982': 153,\n",
       " '1986': 127,\n",
       " '1987': 127,\n",
       " '1981': 102,\n",
       " '1991': 157,\n",
       " '1994': 187,\n",
       " '1990': 120,\n",
       " '1992': 112,\n",
       " '1993': 134,\n",
       " '1995': 133,\n",
       " '1996': 148,\n",
       " '1997': 136,\n",
       " '2005': 177,\n",
       " '2004': 141,\n",
       " '1998': 120,\n",
       " '2006': 125,\n",
       " '1999': 144,\n",
       " '2001': 139,\n",
       " '2002': 168,\n",
       " '2003': 181,\n",
       " '2000': 196,\n",
       " '2009': 184,\n",
       " '2010': 185,\n",
       " '': 6,\n",
       " '2011': 211,\n",
       " '135': 1,\n",
       " '152': 1,\n",
       " '2012': 208,\n",
       " '2013': 247,\n",
       " '2014': 346,\n",
       " '2015': 179,\n",
       " '2016': 205,\n",
       " '2017': 214,\n",
       " '2018': 272,\n",
       " '2019': 219,\n",
       " '2020': 111}"
      ]
     },
     "execution_count": 2,
     "metadata": {},
     "output_type": "execute_result"
    }
   ],
   "source": [
    "year={}\n",
    "index= csv_header.index(\"break_year\")\n",
    "\n",
    "for i in csv_data:\n",
    "    if i[index] in year:\n",
    "        year[i[index]]+=1\n",
    "    else:\n",
    "        year[i[index]]=1\n",
    "\n",
    "year"
   ]
  },
  {
   "cell_type": "code",
   "execution_count": 3,
   "metadata": {},
   "outputs": [
    {
     "data": {
      "text/plain": [
       "{6.0: 1319,\n",
       " 1.0: 59,\n",
       " 20.0: 2,\n",
       " 8.0: 243,\n",
       " 12.0: 63,\n",
       " 2.0: 26,\n",
       " 10.0: 127,\n",
       " 0.75: 52,\n",
       " 4.0: 94,\n",
       " 1.5: 11,\n",
       " 16.0: 4,\n",
       " 3.0: 7,\n",
       " 0.625: 2,\n",
       " 7.0: 1,\n",
       " 6.75: 1}"
      ]
     },
     "execution_count": 3,
     "metadata": {},
     "output_type": "execute_result"
    }
   ],
   "source": [
    "from collections import OrderedDict \n",
    "pipe_size={}\n",
    "index= csv_header.index(\"pipe_size\")\n",
    "index2=csv_header.index(\"break_year\")\n",
    "\n",
    "for i in csv_data:\n",
    "    try:\n",
    "        if int(i[index2])<=2020 and int(i[index2])>2010:\n",
    "            if float(i[index]) in pipe_size:\n",
    "                pipe_size[float(i[index])]+=1\n",
    "            else:\n",
    "                pipe_size[float(i[index])]=1\n",
    "    except:\n",
    "        continue\n",
    "\n",
    "pipe_size"
   ]
  },
  {
   "cell_type": "code",
   "execution_count": 4,
   "metadata": {},
   "outputs": [],
   "source": [
    "ranged=list(pipe_size.keys())"
   ]
  },
  {
   "cell_type": "code",
   "execution_count": 5,
   "metadata": {},
   "outputs": [],
   "source": [
    "frequency=list(pipe_size.values())"
   ]
  },
  {
   "cell_type": "code",
   "execution_count": 6,
   "metadata": {},
   "outputs": [],
   "source": [
    "import numpy as np\n",
    "\n",
    "x=np.array(ranged).reshape(15,1)"
   ]
  },
  {
   "cell_type": "code",
   "execution_count": 7,
   "metadata": {},
   "outputs": [],
   "source": [
    "x2=np.square(x).reshape(15,1)"
   ]
  },
  {
   "cell_type": "code",
   "execution_count": 8,
   "metadata": {},
   "outputs": [],
   "source": [
    "m= x.shape\n",
    "# Create new matrix to hold the orthonormal basis\n",
    "ones = np.ones(m) "
   ]
  },
  {
   "cell_type": "code",
   "execution_count": 9,
   "metadata": {},
   "outputs": [],
   "source": [
    "X=np.append(x2,x,axis=1)"
   ]
  },
  {
   "cell_type": "code",
   "execution_count": 10,
   "metadata": {},
   "outputs": [],
   "source": [
    "X=np.append(X,ones,axis=1)"
   ]
  },
  {
   "cell_type": "code",
   "execution_count": 11,
   "metadata": {},
   "outputs": [
    {
     "data": {
      "text/plain": [
       "array([[3.60000e+01, 6.00000e+00, 1.00000e+00],\n",
       "       [1.00000e+00, 1.00000e+00, 1.00000e+00],\n",
       "       [4.00000e+02, 2.00000e+01, 1.00000e+00],\n",
       "       [6.40000e+01, 8.00000e+00, 1.00000e+00],\n",
       "       [1.44000e+02, 1.20000e+01, 1.00000e+00],\n",
       "       [4.00000e+00, 2.00000e+00, 1.00000e+00],\n",
       "       [1.00000e+02, 1.00000e+01, 1.00000e+00],\n",
       "       [5.62500e-01, 7.50000e-01, 1.00000e+00],\n",
       "       [1.60000e+01, 4.00000e+00, 1.00000e+00],\n",
       "       [2.25000e+00, 1.50000e+00, 1.00000e+00],\n",
       "       [2.56000e+02, 1.60000e+01, 1.00000e+00],\n",
       "       [9.00000e+00, 3.00000e+00, 1.00000e+00],\n",
       "       [3.90625e-01, 6.25000e-01, 1.00000e+00],\n",
       "       [4.90000e+01, 7.00000e+00, 1.00000e+00],\n",
       "       [4.55625e+01, 6.75000e+00, 1.00000e+00]])"
      ]
     },
     "execution_count": 11,
     "metadata": {},
     "output_type": "execute_result"
    }
   ],
   "source": [
    "X"
   ]
  },
  {
   "cell_type": "code",
   "execution_count": 12,
   "metadata": {},
   "outputs": [
    {
     "data": {
      "text/plain": [
       "array([[1319],\n",
       "       [  59],\n",
       "       [   2],\n",
       "       [ 243],\n",
       "       [  63],\n",
       "       [  26],\n",
       "       [ 127],\n",
       "       [  52],\n",
       "       [  94],\n",
       "       [  11],\n",
       "       [   4],\n",
       "       [   7],\n",
       "       [   2],\n",
       "       [   1],\n",
       "       [   1]])"
      ]
     },
     "execution_count": 12,
     "metadata": {},
     "output_type": "execute_result"
    }
   ],
   "source": [
    "y=np.array(frequency).reshape(15,1)\n",
    "y"
   ]
  },
  {
   "cell_type": "code",
   "execution_count": 13,
   "metadata": {},
   "outputs": [],
   "source": [
    "w=np.linalg.inv(X.transpose()@X)@X.transpose()@y"
   ]
  },
  {
   "cell_type": "code",
   "execution_count": 14,
   "metadata": {},
   "outputs": [
    {
     "data": {
      "text/plain": [
       "array([[-3.01334397],\n",
       "       [54.53175292],\n",
       "       [ 2.07677413]])"
      ]
     },
     "execution_count": 14,
     "metadata": {},
     "output_type": "execute_result"
    }
   ],
   "source": [
    "w"
   ]
  },
  {
   "cell_type": "code",
   "execution_count": 15,
   "metadata": {},
   "outputs": [],
   "source": [
    "y_resultant=X@w"
   ]
  },
  {
   "cell_type": "code",
   "execution_count": 16,
   "metadata": {},
   "outputs": [
    {
     "data": {
      "text/plain": [
       "array([[ 220.78690879],\n",
       "       [  53.59518308],\n",
       "       [-112.62575476],\n",
       "       [ 245.47678352],\n",
       "       [ 222.53627774],\n",
       "       [  99.0869041 ],\n",
       "       [ 246.0599065 ],\n",
       "       [  41.28058284],\n",
       "       [ 171.99028232],\n",
       "       [  77.09437958],\n",
       "       [ 103.16876498],\n",
       "       [ 138.55193718],\n",
       "       [  34.98203222],\n",
       "       [ 236.14519012],\n",
       "       [ 232.87062178]])"
      ]
     },
     "execution_count": 16,
     "metadata": {},
     "output_type": "execute_result"
    }
   ],
   "source": [
    "y_resultant"
   ]
  },
  {
   "cell_type": "code",
   "execution_count": 17,
   "metadata": {},
   "outputs": [],
   "source": [
    "test_x=np.arange(1,17,1)\n",
    "test_x=np.array(test_x).reshape(16,1)"
   ]
  },
  {
   "cell_type": "code",
   "execution_count": 18,
   "metadata": {},
   "outputs": [
    {
     "data": {
      "text/plain": [
       "array([[  1],\n",
       "       [  4],\n",
       "       [  9],\n",
       "       [ 16],\n",
       "       [ 25],\n",
       "       [ 36],\n",
       "       [ 49],\n",
       "       [ 64],\n",
       "       [ 81],\n",
       "       [100],\n",
       "       [121],\n",
       "       [144],\n",
       "       [169],\n",
       "       [196],\n",
       "       [225],\n",
       "       [256]])"
      ]
     },
     "execution_count": 18,
     "metadata": {},
     "output_type": "execute_result"
    }
   ],
   "source": [
    "test_x2=np.square(test_x)\n",
    "test_x2"
   ]
  },
  {
   "cell_type": "code",
   "execution_count": 19,
   "metadata": {},
   "outputs": [],
   "source": [
    "m= test_x.shape\n",
    "# Create new matrix to hold the orthonormal basis\n",
    "test_1 = np.ones(m)"
   ]
  },
  {
   "cell_type": "code",
   "execution_count": 20,
   "metadata": {},
   "outputs": [],
   "source": [
    "test=np.append(test_x2,test_x,axis=1)"
   ]
  },
  {
   "cell_type": "code",
   "execution_count": 21,
   "metadata": {},
   "outputs": [],
   "source": [
    "test=np.append(test,test_1,axis=1)"
   ]
  },
  {
   "cell_type": "code",
   "execution_count": 22,
   "metadata": {},
   "outputs": [
    {
     "data": {
      "text/plain": [
       "array([[  1.,   1.,   1.],\n",
       "       [  4.,   2.,   1.],\n",
       "       [  9.,   3.,   1.],\n",
       "       [ 16.,   4.,   1.],\n",
       "       [ 25.,   5.,   1.],\n",
       "       [ 36.,   6.,   1.],\n",
       "       [ 49.,   7.,   1.],\n",
       "       [ 64.,   8.,   1.],\n",
       "       [ 81.,   9.,   1.],\n",
       "       [100.,  10.,   1.],\n",
       "       [121.,  11.,   1.],\n",
       "       [144.,  12.,   1.],\n",
       "       [169.,  13.,   1.],\n",
       "       [196.,  14.,   1.],\n",
       "       [225.,  15.,   1.],\n",
       "       [256.,  16.,   1.]])"
      ]
     },
     "execution_count": 22,
     "metadata": {},
     "output_type": "execute_result"
    }
   ],
   "source": [
    "test"
   ]
  },
  {
   "cell_type": "code",
   "execution_count": 23,
   "metadata": {},
   "outputs": [],
   "source": [
    "y_test=test@w"
   ]
  },
  {
   "cell_type": "code",
   "execution_count": 24,
   "metadata": {},
   "outputs": [
    {
     "data": {
      "text/plain": [
       "array([[ 53.59518308],\n",
       "       [ 99.0869041 ],\n",
       "       [138.55193718],\n",
       "       [171.99028232],\n",
       "       [199.40193952],\n",
       "       [220.78690879],\n",
       "       [236.14519012],\n",
       "       [245.47678352],\n",
       "       [248.78168898],\n",
       "       [246.0599065 ],\n",
       "       [237.31143609],\n",
       "       [222.53627774],\n",
       "       [201.73443146],\n",
       "       [174.90589723],\n",
       "       [142.05067508],\n",
       "       [103.16876498]])"
      ]
     },
     "execution_count": 24,
     "metadata": {},
     "output_type": "execute_result"
    }
   ],
   "source": [
    "y_test"
   ]
  },
  {
   "cell_type": "code",
   "execution_count": 25,
   "metadata": {},
   "outputs": [
    {
     "data": {
      "text/plain": [
       "{1: 53.59518308411861,\n",
       " 2: 99.08690409776352,\n",
       " 3: 138.55193717515704,\n",
       " 4: 171.9902823162992,\n",
       " 5: 199.40193952118995,\n",
       " 6: 220.7869087898293,\n",
       " 7: 236.14519012221731,\n",
       " 8: 245.47678351835393,\n",
       " 9: 248.78168897823915,\n",
       " 10: 246.05990650187294,\n",
       " 11: 237.31143608925544,\n",
       " 12: 222.53627774038648,\n",
       " 13: 201.7344314552662,\n",
       " 14: 174.9058972338945,\n",
       " 15: 142.05067507627143,\n",
       " 16: 103.16876498239697}"
      ]
     },
     "execution_count": 25,
     "metadata": {},
     "output_type": "execute_result"
    }
   ],
   "source": [
    "test_dict={}\n",
    "for i in range(16):\n",
    "    test_dict[i+1]=y_test[i][0]\n",
    "test_dict"
   ]
  },
  {
   "cell_type": "code",
   "execution_count": 26,
   "metadata": {},
   "outputs": [],
   "source": [
    "import matplotlib.pyplot as plt\n",
    "from pandas import Series\n",
    "from pandas import DataFrame\n",
    "%matplotlib inline"
   ]
  },
  {
   "cell_type": "code",
   "execution_count": 27,
   "metadata": {},
   "outputs": [
    {
     "data": {
      "text/html": [
       "<div>\n",
       "<style scoped>\n",
       "    .dataframe tbody tr th:only-of-type {\n",
       "        vertical-align: middle;\n",
       "    }\n",
       "\n",
       "    .dataframe tbody tr th {\n",
       "        vertical-align: top;\n",
       "    }\n",
       "\n",
       "    .dataframe thead th {\n",
       "        text-align: right;\n",
       "    }\n",
       "</style>\n",
       "<table border=\"1\" class=\"dataframe\">\n",
       "  <thead>\n",
       "    <tr style=\"text-align: right;\">\n",
       "      <th></th>\n",
       "      <th>Main Breaks</th>\n",
       "    </tr>\n",
       "  </thead>\n",
       "  <tbody>\n",
       "    <tr>\n",
       "      <th>1.0</th>\n",
       "      <td>53.595183</td>\n",
       "    </tr>\n",
       "    <tr>\n",
       "      <th>2.0</th>\n",
       "      <td>99.086904</td>\n",
       "    </tr>\n",
       "    <tr>\n",
       "      <th>3.0</th>\n",
       "      <td>138.551937</td>\n",
       "    </tr>\n",
       "    <tr>\n",
       "      <th>4.0</th>\n",
       "      <td>171.990282</td>\n",
       "    </tr>\n",
       "    <tr>\n",
       "      <th>5.0</th>\n",
       "      <td>199.401940</td>\n",
       "    </tr>\n",
       "    <tr>\n",
       "      <th>6.0</th>\n",
       "      <td>220.786909</td>\n",
       "    </tr>\n",
       "    <tr>\n",
       "      <th>7.0</th>\n",
       "      <td>236.145190</td>\n",
       "    </tr>\n",
       "    <tr>\n",
       "      <th>8.0</th>\n",
       "      <td>245.476784</td>\n",
       "    </tr>\n",
       "    <tr>\n",
       "      <th>9.0</th>\n",
       "      <td>248.781689</td>\n",
       "    </tr>\n",
       "    <tr>\n",
       "      <th>10.0</th>\n",
       "      <td>246.059907</td>\n",
       "    </tr>\n",
       "    <tr>\n",
       "      <th>11.0</th>\n",
       "      <td>237.311436</td>\n",
       "    </tr>\n",
       "    <tr>\n",
       "      <th>12.0</th>\n",
       "      <td>222.536278</td>\n",
       "    </tr>\n",
       "    <tr>\n",
       "      <th>13.0</th>\n",
       "      <td>201.734431</td>\n",
       "    </tr>\n",
       "    <tr>\n",
       "      <th>14.0</th>\n",
       "      <td>174.905897</td>\n",
       "    </tr>\n",
       "    <tr>\n",
       "      <th>15.0</th>\n",
       "      <td>142.050675</td>\n",
       "    </tr>\n",
       "    <tr>\n",
       "      <th>16.0</th>\n",
       "      <td>103.168765</td>\n",
       "    </tr>\n",
       "  </tbody>\n",
       "</table>\n",
       "</div>"
      ],
      "text/plain": [
       "      Main Breaks\n",
       "1.0     53.595183\n",
       "2.0     99.086904\n",
       "3.0    138.551937\n",
       "4.0    171.990282\n",
       "5.0    199.401940\n",
       "6.0    220.786909\n",
       "7.0    236.145190\n",
       "8.0    245.476784\n",
       "9.0    248.781689\n",
       "10.0   246.059907\n",
       "11.0   237.311436\n",
       "12.0   222.536278\n",
       "13.0   201.734431\n",
       "14.0   174.905897\n",
       "15.0   142.050675\n",
       "16.0   103.168765"
      ]
     },
     "execution_count": 27,
     "metadata": {},
     "output_type": "execute_result"
    }
   ],
   "source": [
    "df=DataFrame(Series(test_dict))\n",
    "df.index=df.index.astype(float)\n",
    "df=df.sort_index()\n",
    "df=df.rename(columns={0:'Main Breaks'})\n",
    "df"
   ]
  },
  {
   "cell_type": "code",
   "execution_count": 38,
   "metadata": {},
   "outputs": [
    {
     "data": {
      "image/png": "[encoded data removed]",
      "text/plain": [
       "<Figure size 360x360 with 1 Axes>"
      ]
     },
     "metadata": {
      "needs_background": "light"
     },
     "output_type": "display_data"
    }
   ],
   "source": [
    "ax1= df.plot.line(color=\"r\",xticks=[0,2,4,6,8,10,12,14,16],figsize=[5,5])\n",
    "ax1.set_xlim([0,17])\n",
    "ax1.set_ylim([0,260])\n",
    "ax1.set_ylabel(\"Number of Pipes\")\n",
    "ax1.set_xlabel(\"Pipe Depth (ft.)\")\n",
    "ax1.spines[\"top\"].set_visible(False)\n",
    "ax1.spines[\"right\"].set_visible(False)"
   ]
  },
  {
   "cell_type": "code",
   "execution_count": null,
   "metadata": {},
   "outputs": [],
   "source": []
  },
  {
   "cell_type": "code",
   "execution_count": 29,
   "metadata": {},
   "outputs": [
    {
     "data": {
      "text/plain": [
       "array([[2.16000000e+02],\n",
       "       [1.00000000e+00],\n",
       "       [8.00000000e+03],\n",
       "       [5.12000000e+02],\n",
       "       [1.72800000e+03],\n",
       "       [8.00000000e+00],\n",
       "       [1.00000000e+03],\n",
       "       [4.21875000e-01],\n",
       "       [6.40000000e+01],\n",
       "       [3.37500000e+00],\n",
       "       [4.09600000e+03],\n",
       "       [2.70000000e+01],\n",
       "       [2.44140625e-01],\n",
       "       [3.43000000e+02],\n",
       "       [3.07546875e+02]])"
      ]
     },
     "execution_count": 29,
     "metadata": {},
     "output_type": "execute_result"
    }
   ],
   "source": [
    "x3=x**3\n",
    "x3"
   ]
  },
  {
   "cell_type": "code",
   "execution_count": 30,
   "metadata": {},
   "outputs": [
    {
     "data": {
      "text/plain": [
       "array([[2.16000000e+02, 3.60000000e+01, 6.00000000e+00, 1.00000000e+00],\n",
       "       [1.00000000e+00, 1.00000000e+00, 1.00000000e+00, 1.00000000e+00],\n",
       "       [8.00000000e+03, 4.00000000e+02, 2.00000000e+01, 1.00000000e+00],\n",
       "       [5.12000000e+02, 6.40000000e+01, 8.00000000e+00, 1.00000000e+00],\n",
       "       [1.72800000e+03, 1.44000000e+02, 1.20000000e+01, 1.00000000e+00],\n",
       "       [8.00000000e+00, 4.00000000e+00, 2.00000000e+00, 1.00000000e+00],\n",
       "       [1.00000000e+03, 1.00000000e+02, 1.00000000e+01, 1.00000000e+00],\n",
       "       [4.21875000e-01, 5.62500000e-01, 7.50000000e-01, 1.00000000e+00],\n",
       "       [6.40000000e+01, 1.60000000e+01, 4.00000000e+00, 1.00000000e+00],\n",
       "       [3.37500000e+00, 2.25000000e+00, 1.50000000e+00, 1.00000000e+00],\n",
       "       [4.09600000e+03, 2.56000000e+02, 1.60000000e+01, 1.00000000e+00],\n",
       "       [2.70000000e+01, 9.00000000e+00, 3.00000000e+00, 1.00000000e+00],\n",
       "       [2.44140625e-01, 3.90625000e-01, 6.25000000e-01, 1.00000000e+00],\n",
       "       [3.43000000e+02, 4.90000000e+01, 7.00000000e+00, 1.00000000e+00],\n",
       "       [3.07546875e+02, 4.55625000e+01, 6.75000000e+00, 1.00000000e+00]])"
      ]
     },
     "execution_count": 30,
     "metadata": {},
     "output_type": "execute_result"
    }
   ],
   "source": [
    "Xv2=np.append(x3,X,axis=1)\n",
    "Xv2"
   ]
  },
  {
   "cell_type": "code",
   "execution_count": 31,
   "metadata": {},
   "outputs": [
    {
     "data": {
      "text/plain": [
       "array([[   0.54130015],\n",
       "       [ -18.80903757],\n",
       "       [ 167.66830689],\n",
       "       [-142.65728067]])"
      ]
     },
     "execution_count": 31,
     "metadata": {},
     "output_type": "execute_result"
    }
   ],
   "source": [
    "wv2=np.linalg.inv(Xv2.transpose()@Xv2)@Xv2.transpose()@y\n",
    "wv2"
   ]
  },
  {
   "cell_type": "code",
   "execution_count": 32,
   "metadata": {},
   "outputs": [],
   "source": [
    "test_x3=test_x**3"
   ]
  },
  {
   "cell_type": "code",
   "execution_count": 33,
   "metadata": {},
   "outputs": [
    {
     "data": {
      "text/plain": [
       "array([[1.000e+00, 1.000e+00, 1.000e+00, 1.000e+00],\n",
       "       [8.000e+00, 4.000e+00, 2.000e+00, 1.000e+00],\n",
       "       [2.700e+01, 9.000e+00, 3.000e+00, 1.000e+00],\n",
       "       [6.400e+01, 1.600e+01, 4.000e+00, 1.000e+00],\n",
       "       [1.250e+02, 2.500e+01, 5.000e+00, 1.000e+00],\n",
       "       [2.160e+02, 3.600e+01, 6.000e+00, 1.000e+00],\n",
       "       [3.430e+02, 4.900e+01, 7.000e+00, 1.000e+00],\n",
       "       [5.120e+02, 6.400e+01, 8.000e+00, 1.000e+00],\n",
       "       [7.290e+02, 8.100e+01, 9.000e+00, 1.000e+00],\n",
       "       [1.000e+03, 1.000e+02, 1.000e+01, 1.000e+00],\n",
       "       [1.331e+03, 1.210e+02, 1.100e+01, 1.000e+00],\n",
       "       [1.728e+03, 1.440e+02, 1.200e+01, 1.000e+00],\n",
       "       [2.197e+03, 1.690e+02, 1.300e+01, 1.000e+00],\n",
       "       [2.744e+03, 1.960e+02, 1.400e+01, 1.000e+00],\n",
       "       [3.375e+03, 2.250e+02, 1.500e+01, 1.000e+00],\n",
       "       [4.096e+03, 2.560e+02, 1.600e+01, 1.000e+00]])"
      ]
     },
     "execution_count": 33,
     "metadata": {},
     "output_type": "execute_result"
    }
   ],
   "source": [
    "testv2=np.append(test_x3,test,axis=1)\n",
    "testv2"
   ]
  },
  {
   "cell_type": "code",
   "execution_count": 34,
   "metadata": {},
   "outputs": [],
   "source": [
    "y_testv2=testv2@wv2"
   ]
  },
  {
   "cell_type": "code",
   "execution_count": 35,
   "metadata": {},
   "outputs": [
    {
     "data": {
      "text/plain": [
       "{1: 6.743288796529157,\n",
       " 2: 121.7735840259109,\n",
       " 3: 205.6814059058671,\n",
       " 4: 261.7145553288717,\n",
       " 5: 293.1208331873984,\n",
       " 6: 303.14804037392105,\n",
       " 7: 295.04397778091334,\n",
       " 8: 272.0564463008491,\n",
       " 9: 237.43324682620232,\n",
       " 10: 194.42218024944668,\n",
       " 11: 146.27104746305622,\n",
       " 12: 96.22764935950454,\n",
       " 13: 47.539786831265246,\n",
       " 14: 3.455260770812856,\n",
       " 15: -32.77812792938039,\n",
       " 16: -57.91257837683861}"
      ]
     },
     "execution_count": 35,
     "metadata": {},
     "output_type": "execute_result"
    }
   ],
   "source": [
    "test_dictv2={}\n",
    "for i in range(16):\n",
    "    test_dictv2[i+1]=y_testv2[i][0]\n",
    "test_dictv2"
   ]
  },
  {
   "cell_type": "code",
   "execution_count": 36,
   "metadata": {},
   "outputs": [
    {
     "data": {
      "text/html": [
       "<div>\n",
       "<style scoped>\n",
       "    .dataframe tbody tr th:only-of-type {\n",
       "        vertical-align: middle;\n",
       "    }\n",
       "\n",
       "    .dataframe tbody tr th {\n",
       "        vertical-align: top;\n",
       "    }\n",
       "\n",
       "    .dataframe thead th {\n",
       "        text-align: right;\n",
       "    }\n",
       "</style>\n",
       "<table border=\"1\" class=\"dataframe\">\n",
       "  <thead>\n",
       "    <tr style=\"text-align: right;\">\n",
       "      <th></th>\n",
       "      <th>Main Breaks</th>\n",
       "    </tr>\n",
       "  </thead>\n",
       "  <tbody>\n",
       "    <tr>\n",
       "      <th>1.0</th>\n",
       "      <td>6.743289</td>\n",
       "    </tr>\n",
       "    <tr>\n",
       "      <th>2.0</th>\n",
       "      <td>121.773584</td>\n",
       "    </tr>\n",
       "    <tr>\n",
       "      <th>3.0</th>\n",
       "      <td>205.681406</td>\n",
       "    </tr>\n",
       "    <tr>\n",
       "      <th>4.0</th>\n",
       "      <td>261.714555</td>\n",
       "    </tr>\n",
       "    <tr>\n",
       "      <th>5.0</th>\n",
       "      <td>293.120833</td>\n",
       "    </tr>\n",
       "    <tr>\n",
       "      <th>6.0</th>\n",
       "      <td>303.148040</td>\n",
       "    </tr>\n",
       "    <tr>\n",
       "      <th>7.0</th>\n",
       "      <td>295.043978</td>\n",
       "    </tr>\n",
       "    <tr>\n",
       "      <th>8.0</th>\n",
       "      <td>272.056446</td>\n",
       "    </tr>\n",
       "    <tr>\n",
       "      <th>9.0</th>\n",
       "      <td>237.433247</td>\n",
       "    </tr>\n",
       "    <tr>\n",
       "      <th>10.0</th>\n",
       "      <td>194.422180</td>\n",
       "    </tr>\n",
       "    <tr>\n",
       "      <th>11.0</th>\n",
       "      <td>146.271047</td>\n",
       "    </tr>\n",
       "    <tr>\n",
       "      <th>12.0</th>\n",
       "      <td>96.227649</td>\n",
       "    </tr>\n",
       "    <tr>\n",
       "      <th>13.0</th>\n",
       "      <td>47.539787</td>\n",
       "    </tr>\n",
       "    <tr>\n",
       "      <th>14.0</th>\n",
       "      <td>3.455261</td>\n",
       "    </tr>\n",
       "    <tr>\n",
       "      <th>15.0</th>\n",
       "      <td>-32.778128</td>\n",
       "    </tr>\n",
       "    <tr>\n",
       "      <th>16.0</th>\n",
       "      <td>-57.912578</td>\n",
       "    </tr>\n",
       "  </tbody>\n",
       "</table>\n",
       "</div>"
      ],
      "text/plain": [
       "      Main Breaks\n",
       "1.0      6.743289\n",
       "2.0    121.773584\n",
       "3.0    205.681406\n",
       "4.0    261.714555\n",
       "5.0    293.120833\n",
       "6.0    303.148040\n",
       "7.0    295.043978\n",
       "8.0    272.056446\n",
       "9.0    237.433247\n",
       "10.0   194.422180\n",
       "11.0   146.271047\n",
       "12.0    96.227649\n",
       "13.0    47.539787\n",
       "14.0     3.455261\n",
       "15.0   -32.778128\n",
       "16.0   -57.912578"
      ]
     },
     "execution_count": 36,
     "metadata": {},
     "output_type": "execute_result"
    }
   ],
   "source": [
    "df2=DataFrame(Series(test_dictv2))\n",
    "df2.index=df2.index.astype(float)\n",
    "df2=df2.sort_index()\n",
    "df2=df2.rename(columns={0:'Main Breaks'})\n",
    "df2"
   ]
  },
  {
   "cell_type": "code",
   "execution_count": 40,
   "metadata": {},
   "outputs": [
    {
     "data": {
      "image/png": "[encoded data removed]",
      "text/plain": [
       "<Figure size 360x360 with 1 Axes>"
      ]
     },
     "metadata": {
      "needs_background": "light"
     },
     "output_type": "display_data"
    }
   ],
   "source": [
    "ax1= df2.plot.line(color=\"r\",xticks=[0,2,4,6,8,10,12,14],figsize=[5,5])\n",
    "ax1.set_xlim([0,15])\n",
    "ax1.set_ylim([0,310])\n",
    "ax1.set_ylabel(\"Number of Water Main Breaks\")\n",
    "ax1.set_xlabel(\"Pipe Size (m)\")\n",
    "ax1.spines[\"top\"].set_visible(False)\n",
    "ax1.spines[\"right\"].set_visible(False)"
   ]
  },
  {
   "cell_type": "code",
   "execution_count": null,
   "metadata": {},
   "outputs": [],
   "source": []
  }
 ],
 "metadata": {
  "kernelspec": {
   "display_name": "Python 3",
   "language": "python",
   "name": "python3"
  },
  "language_info": {
   "codemirror_mode": {
    "name": "ipython",
    "version": 3
   },
   "file_extension": ".py",
   "mimetype": "text/x-python",
   "name": "python",
   "nbconvert_exporter": "python",
   "pygments_lexer": "ipython3",
   "version": "3.6.9"
  }
 },
 "nbformat": 4,
 "nbformat_minor": 4
}
