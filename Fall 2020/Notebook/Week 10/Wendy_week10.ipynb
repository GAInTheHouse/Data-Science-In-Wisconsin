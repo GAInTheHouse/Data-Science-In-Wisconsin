{
 "cells": [
  {
   "cell_type": "code",
   "execution_count": 1,
   "metadata": {},
   "outputs": [],
   "source": [
    "import pandas as pd\n",
    "import matplotlib\n",
    "import geopandas\n",
    "from matplotlib import pyplot as plt\n",
    "import math"
   ]
  },
  {
   "cell_type": "code",
   "execution_count": 2,
   "metadata": {},
   "outputs": [],
   "source": [
    "df=pd.read_csv(\"data/all_water_mains_with_breaksinfo.csv\")"
   ]
  },
  {
   "cell_type": "code",
   "execution_count": 3,
   "metadata": {},
   "outputs": [],
   "source": [
    "breaks=df[df[\"break_date\"]!=\"None\"]"
   ]
  },
  {
   "cell_type": "code",
   "execution_count": 4,
   "metadata": {},
   "outputs": [],
   "source": [
    "one = breaks.Material.value_counts()"
   ]
  },
  {
   "cell_type": "code",
   "execution_count": 5,
   "metadata": {},
   "outputs": [],
   "source": [
    "two=df.Material.value_counts()"
   ]
  },
  {
   "cell_type": "code",
   "execution_count": 6,
   "metadata": {},
   "outputs": [],
   "source": [
    "material = pd.DataFrame(two)"
   ]
  },
  {
   "cell_type": "code",
   "execution_count": 7,
   "metadata": {},
   "outputs": [],
   "source": [
    "material[\"broken\"] = one"
   ]
  },
  {
   "cell_type": "code",
   "execution_count": 8,
   "metadata": {},
   "outputs": [],
   "source": [
    "material.loc[\"CIPP\",\"broken\"]=0\n",
    "material.loc[\"HDPE\",\"broken\"]=0"
   ]
  },
  {
   "cell_type": "code",
   "execution_count": 9,
   "metadata": {},
   "outputs": [],
   "source": [
    "material[\"Material\"]=material[\"Material\"]/1000\n",
    "material[\"broken\"]=material[\"broken\"]/1000"
   ]
  },
  {
   "cell_type": "code",
   "execution_count": 10,
   "metadata": {
    "scrolled": true
   },
   "outputs": [
    {
     "data": {
      "text/html": [
       "<div>\n",
       "<style scoped>\n",
       "    .dataframe tbody tr th:only-of-type {\n",
       "        vertical-align: middle;\n",
       "    }\n",
       "\n",
       "    .dataframe tbody tr th {\n",
       "        vertical-align: top;\n",
       "    }\n",
       "\n",
       "    .dataframe thead th {\n",
       "        text-align: right;\n",
       "    }\n",
       "</style>\n",
       "<table border=\"1\" class=\"dataframe\">\n",
       "  <thead>\n",
       "    <tr style=\"text-align: right;\">\n",
       "      <th></th>\n",
       "      <th>Material</th>\n",
       "      <th>broken</th>\n",
       "      <th>percentage</th>\n",
       "      <th>p</th>\n",
       "    </tr>\n",
       "  </thead>\n",
       "  <tbody>\n",
       "    <tr>\n",
       "      <th>DI</th>\n",
       "      <td>15.070</td>\n",
       "      <td>0.404</td>\n",
       "      <td>2.680823</td>\n",
       "      <td>2.68</td>\n",
       "    </tr>\n",
       "    <tr>\n",
       "      <th>CI</th>\n",
       "      <td>3.775</td>\n",
       "      <td>1.898</td>\n",
       "      <td>50.278146</td>\n",
       "      <td>50.28</td>\n",
       "    </tr>\n",
       "    <tr>\n",
       "      <th>SAND</th>\n",
       "      <td>2.211</td>\n",
       "      <td>0.371</td>\n",
       "      <td>16.779738</td>\n",
       "      <td>16.78</td>\n",
       "    </tr>\n",
       "    <tr>\n",
       "      <th>SPUN</th>\n",
       "      <td>1.879</td>\n",
       "      <td>0.855</td>\n",
       "      <td>45.502927</td>\n",
       "      <td>45.5</td>\n",
       "    </tr>\n",
       "    <tr>\n",
       "      <th>PVC</th>\n",
       "      <td>0.212</td>\n",
       "      <td>0.010</td>\n",
       "      <td>4.716981</td>\n",
       "      <td>4.72</td>\n",
       "    </tr>\n",
       "    <tr>\n",
       "      <th>COPPER</th>\n",
       "      <td>0.153</td>\n",
       "      <td>0.004</td>\n",
       "      <td>2.614379</td>\n",
       "      <td>2.61</td>\n",
       "    </tr>\n",
       "    <tr>\n",
       "      <th>CIPP</th>\n",
       "      <td>0.147</td>\n",
       "      <td>0.000</td>\n",
       "      <td>0.000000</td>\n",
       "      <td>0.0</td>\n",
       "    </tr>\n",
       "    <tr>\n",
       "      <th>HDPE</th>\n",
       "      <td>0.031</td>\n",
       "      <td>0.000</td>\n",
       "      <td>0.000000</td>\n",
       "      <td>0.0</td>\n",
       "    </tr>\n",
       "  </tbody>\n",
       "</table>\n",
       "</div>"
      ],
      "text/plain": [
       "        Material  broken  percentage      p\n",
       "DI        15.070   0.404    2.680823   2.68\n",
       "CI         3.775   1.898   50.278146  50.28\n",
       "SAND       2.211   0.371   16.779738  16.78\n",
       "SPUN       1.879   0.855   45.502927   45.5\n",
       "PVC        0.212   0.010    4.716981   4.72\n",
       "COPPER     0.153   0.004    2.614379   2.61\n",
       "CIPP       0.147   0.000    0.000000    0.0\n",
       "HDPE       0.031   0.000    0.000000    0.0"
      ]
     },
     "execution_count": 10,
     "metadata": {},
     "output_type": "execute_result"
    }
   ],
   "source": [
    "material[\"percentage\"] = material[\"broken\"]/material[\"Material\"]*100\n",
    "material[\"p\"] = round(material[\"percentage\"],2)\n",
    "material = material.astype({\"p\":str})\n",
    "material = material.drop([\"None\"])\n",
    "material"
   ]
  },
  {
   "cell_type": "code",
   "execution_count": 11,
   "metadata": {},
   "outputs": [],
   "source": [
    "matplotlib.rcParams.update({\"font.size\":16})"
   ]
  },
  {
   "cell_type": "code",
   "execution_count": 12,
   "metadata": {},
   "outputs": [
    {
     "data": {
      "text/plain": [
       "<matplotlib.legend.Legend at 0x7f1191fe4d30>"
      ]
     },
     "execution_count": 12,
     "metadata": {},
     "output_type": "execute_result"
    },
    {
     "data": {
      "image/png": "[encoded data removed]",
      "text/plain": [
       "<Figure size 720x432 with 1 Axes>"
      ]
     },
     "metadata": {
      "needs_background": "light"
     },
     "output_type": "display_data"
    }
   ],
   "source": [
    "#https://moonbooks.org/Articles/How-to-add-text-on-a-bar-with-matplotlib-/\n",
    "fig,ax = plt.subplots(figsize = (10,6))\n",
    "total = plt.bar(x=material.index,height = material[\"Material\"],color = \"darkorange\")\n",
    "broken = plt.bar(x=material.index,height = material[\"broken\"])\n",
    "#material.plot.bar(y=\"Material\",ax=ax)\n",
    "#material.plot.bar(y=\"broken\",ax=ax,color = \"orange\")\n",
    "ax.spines[\"top\"].set_visible(False)\n",
    "ax.spines[\"right\"].set_visible(False)\n",
    "for idx,rect in enumerate(broken):\n",
    "        height = rect.get_height()\n",
    "        ax.text(rect.get_x() + rect.get_width()/2, 1.3*height,\n",
    "                material[\"p\"][idx]+\"%\",\n",
    "                ha='center', va='bottom', rotation=0,fontsize = 12)\n",
    "ax.set_xlabel(\"Material of Water Mains\")\n",
    "ax.set_ylabel(\"Number of Water Mains(in Thousands)\")\n",
    "ax.legend([\"All Water Mains\",\"Broken Water Mains\"])"
   ]
  },
  {
   "cell_type": "code",
   "execution_count": 14,
   "metadata": {},
   "outputs": [],
   "source": [
    "wm = geopandas.read_file(\"zip://data/WaterMains.zip\")"
   ]
  },
  {
   "cell_type": "code",
   "execution_count": 13,
   "metadata": {},
   "outputs": [],
   "source": [
    "material_dict = {\"Spring\":{},\n",
    "            \"Summer\":{},\n",
    "            \"Fall\":{},\n",
    "            \"Winter\":{}}\n",
    "for i in breaks.index:\n",
    "    if breaks.loc[i,\"Material\"]==\"None\":\n",
    "        continue\n",
    "    if breaks.loc[i,\"Material\"] not in material_dict[breaks.loc[i,\"season\"]]:\n",
    "        material_dict[breaks.loc[i,\"season\"]][breaks.loc[i,\"Material\"]]=1\n",
    "    else:\n",
    "        material_dict[breaks.loc[i,\"season\"]][breaks.loc[i,\"Material\"]]+=1"
   ]
  },
  {
   "cell_type": "code",
   "execution_count": 14,
   "metadata": {},
   "outputs": [],
   "source": [
    "df = pd.DataFrame.from_dict(material_dict,orient = \"index\")"
   ]
  },
  {
   "cell_type": "code",
   "execution_count": 16,
   "metadata": {},
   "outputs": [
    {
     "data": {
      "text/html": [
       "<div>\n",
       "<style scoped>\n",
       "    .dataframe tbody tr th:only-of-type {\n",
       "        vertical-align: middle;\n",
       "    }\n",
       "\n",
       "    .dataframe tbody tr th {\n",
       "        vertical-align: top;\n",
       "    }\n",
       "\n",
       "    .dataframe thead th {\n",
       "        text-align: right;\n",
       "    }\n",
       "</style>\n",
       "<table border=\"1\" class=\"dataframe\">\n",
       "  <thead>\n",
       "    <tr style=\"text-align: right;\">\n",
       "      <th></th>\n",
       "      <th>DI</th>\n",
       "      <th>CI</th>\n",
       "      <th>SPUN</th>\n",
       "      <th>SAND</th>\n",
       "    </tr>\n",
       "  </thead>\n",
       "  <tbody>\n",
       "    <tr>\n",
       "      <th>Spring</th>\n",
       "      <td>75</td>\n",
       "      <td>209</td>\n",
       "      <td>100</td>\n",
       "      <td>58</td>\n",
       "    </tr>\n",
       "    <tr>\n",
       "      <th>Summer</th>\n",
       "      <td>72</td>\n",
       "      <td>130</td>\n",
       "      <td>58</td>\n",
       "      <td>97</td>\n",
       "    </tr>\n",
       "    <tr>\n",
       "      <th>Fall</th>\n",
       "      <td>77</td>\n",
       "      <td>223</td>\n",
       "      <td>81</td>\n",
       "      <td>69</td>\n",
       "    </tr>\n",
       "    <tr>\n",
       "      <th>Winter</th>\n",
       "      <td>180</td>\n",
       "      <td>1336</td>\n",
       "      <td>616</td>\n",
       "      <td>147</td>\n",
       "    </tr>\n",
       "  </tbody>\n",
       "</table>\n",
       "</div>"
      ],
      "text/plain": [
       "         DI    CI  SPUN  SAND\n",
       "Spring   75   209   100    58\n",
       "Summer   72   130    58    97\n",
       "Fall     77   223    81    69\n",
       "Winter  180  1336   616   147"
      ]
     },
     "execution_count": 16,
     "metadata": {},
     "output_type": "execute_result"
    }
   ],
   "source": [
    "df.loc[\"Fall\",\"COPPER\"]=0\n",
    "df = df.drop([\"PVC\",\"COPPER\"],axis = 1)\n",
    "df"
   ]
  },
  {
   "cell_type": "code",
   "execution_count": 20,
   "metadata": {},
   "outputs": [
    {
     "data": {
      "image/png": "[encoded data removed]",
      "text/plain": [
       "<Figure size 360x216 with 1 Axes>"
      ]
     },
     "metadata": {
      "needs_background": "light"
     },
     "output_type": "display_data"
    }
   ],
   "source": [
    "matplotlib.rcParams.update({\"font.size\":16})\n",
    "fig,ax = plt.subplots(figsize = (5,3))\n",
    "df.plot.bar(stacked = True,ax=ax)\n",
    "ax.spines[\"top\"].set_visible(False)\n",
    "ax.spines[\"right\"].set_visible(False)\n",
    "plt.xticks(rotation = 0)\n",
    "ax.set_xlabel(\"Season and Iron Type\")\n",
    "ax.set_ylabel(\"Number of Breakages\")\n",
    "ax.legend([\"DI: 138.9%\",\"CI: 953.2%\",\"SPUN: 953.4%\",\"SAND: 55.9%\"],loc = \"upper center\",fontsize = 12)\n",
    "plt.tight_layout()\n",
    "#plt.savefig(\"Season and Iron Type.pdf\")"
   ]
  },
  {
   "cell_type": "code",
   "execution_count": 24,
   "metadata": {},
   "outputs": [
    {
     "name": "stdout",
     "output_type": "stream",
     "text": [
      "DI: 1.3888888888888888\n",
      "CI: 9.531746031746032\n",
      "SPUN: 9.53448275862069\n",
      "SAND: 0.5591397849462365\n",
      "PVC: -0.6666666666666666\n",
      "COPPER: 1.0\n"
     ]
    }
   ],
   "source": [
    "for m in [\"DI\",\"CI\",\"SPUN\",\"SAND\",\"PVC\",\"COPPER\"]:\n",
    "    a = df.loc[\"Winter\",m]\n",
    "    b = df.loc[\"Summer\",m]\n",
    "    print(m+\": \"+str((a-b)/b))"
   ]
  },
  {
   "cell_type": "code",
   "execution_count": 25,
   "metadata": {},
   "outputs": [
    {
     "data": {
      "text/html": [
       "<div>\n",
       "<style scoped>\n",
       "    .dataframe tbody tr th:only-of-type {\n",
       "        vertical-align: middle;\n",
       "    }\n",
       "\n",
       "    .dataframe tbody tr th {\n",
       "        vertical-align: top;\n",
       "    }\n",
       "\n",
       "    .dataframe thead th {\n",
       "        text-align: right;\n",
       "    }\n",
       "</style>\n",
       "<table border=\"1\" class=\"dataframe\">\n",
       "  <thead>\n",
       "    <tr style=\"text-align: right;\">\n",
       "      <th></th>\n",
       "      <th>DI</th>\n",
       "      <th>CI</th>\n",
       "      <th>SPUN</th>\n",
       "      <th>SAND</th>\n",
       "      <th>PVC</th>\n",
       "      <th>COPPER</th>\n",
       "    </tr>\n",
       "  </thead>\n",
       "  <tbody>\n",
       "    <tr>\n",
       "      <th>Spring</th>\n",
       "      <td>74</td>\n",
       "      <td>206</td>\n",
       "      <td>98</td>\n",
       "      <td>58</td>\n",
       "      <td>2</td>\n",
       "      <td>1.0</td>\n",
       "    </tr>\n",
       "    <tr>\n",
       "      <th>Summer</th>\n",
       "      <td>72</td>\n",
       "      <td>126</td>\n",
       "      <td>58</td>\n",
       "      <td>93</td>\n",
       "      <td>3</td>\n",
       "      <td>1.0</td>\n",
       "    </tr>\n",
       "    <tr>\n",
       "      <th>Fall</th>\n",
       "      <td>76</td>\n",
       "      <td>219</td>\n",
       "      <td>77</td>\n",
       "      <td>67</td>\n",
       "      <td>1</td>\n",
       "      <td>0.0</td>\n",
       "    </tr>\n",
       "    <tr>\n",
       "      <th>Winter</th>\n",
       "      <td>172</td>\n",
       "      <td>1327</td>\n",
       "      <td>611</td>\n",
       "      <td>145</td>\n",
       "      <td>1</td>\n",
       "      <td>2.0</td>\n",
       "    </tr>\n",
       "  </tbody>\n",
       "</table>\n",
       "</div>"
      ],
      "text/plain": [
       "         DI    CI  SPUN  SAND  PVC  COPPER\n",
       "Spring   74   206    98    58    2     1.0\n",
       "Summer   72   126    58    93    3     1.0\n",
       "Fall     76   219    77    67    1     0.0\n",
       "Winter  172  1327   611   145    1     2.0"
      ]
     },
     "execution_count": 25,
     "metadata": {},
     "output_type": "execute_result"
    }
   ],
   "source": [
    "df"
   ]
  },
  {
   "cell_type": "code",
   "execution_count": 43,
   "metadata": {},
   "outputs": [
    {
     "data": {
      "text/plain": [
       "6        2015-01-15\n",
       "9        2008-03-30\n",
       "11       1999-12-27\n",
       "28       2019-01-17\n",
       "32       2011-09-22\n",
       "            ...    \n",
       "23731    2017-01-09\n",
       "23754    1999-12-27\n",
       "23755    2015-01-15\n",
       "23780    1999-12-21\n",
       "23843    1998-08-21\n",
       "Name: break_date, Length: 3504, dtype: object"
      ]
     },
     "execution_count": 43,
     "metadata": {},
     "output_type": "execute_result"
    }
   ],
   "source": [
    "breaks[\"break_date\"]"
   ]
  },
  {
   "cell_type": "code",
   "execution_count": 30,
   "metadata": {},
   "outputs": [
    {
     "data": {
      "text/html": [
       "<div>\n",
       "<style scoped>\n",
       "    .dataframe tbody tr th:only-of-type {\n",
       "        vertical-align: middle;\n",
       "    }\n",
       "\n",
       "    .dataframe tbody tr th {\n",
       "        vertical-align: top;\n",
       "    }\n",
       "\n",
       "    .dataframe thead th {\n",
       "        text-align: right;\n",
       "    }\n",
       "</style>\n",
       "<table border=\"1\" class=\"dataframe\">\n",
       "  <thead>\n",
       "    <tr style=\"text-align: right;\">\n",
       "      <th></th>\n",
       "      <th>Material</th>\n",
       "    </tr>\n",
       "  </thead>\n",
       "  <tbody>\n",
       "    <tr>\n",
       "      <th>DI</th>\n",
       "      <td>14972</td>\n",
       "    </tr>\n",
       "    <tr>\n",
       "      <th>CI</th>\n",
       "      <td>2861</td>\n",
       "    </tr>\n",
       "    <tr>\n",
       "      <th>SAND</th>\n",
       "      <td>2064</td>\n",
       "    </tr>\n",
       "    <tr>\n",
       "      <th>SPUN</th>\n",
       "      <td>1441</td>\n",
       "    </tr>\n",
       "    <tr>\n",
       "      <th>PVC</th>\n",
       "      <td>212</td>\n",
       "    </tr>\n",
       "    <tr>\n",
       "      <th>COPPER</th>\n",
       "      <td>153</td>\n",
       "    </tr>\n",
       "    <tr>\n",
       "      <th>CIPP</th>\n",
       "      <td>147</td>\n",
       "    </tr>\n",
       "    <tr>\n",
       "      <th>HDPE</th>\n",
       "      <td>31</td>\n",
       "    </tr>\n",
       "  </tbody>\n",
       "</table>\n",
       "</div>"
      ],
      "text/plain": [
       "        Material\n",
       "DI         14972\n",
       "CI          2861\n",
       "SAND        2064\n",
       "SPUN        1441\n",
       "PVC          212\n",
       "COPPER       153\n",
       "CIPP         147\n",
       "HDPE          31"
      ]
     },
     "execution_count": 30,
     "metadata": {},
     "output_type": "execute_result"
    }
   ],
   "source": [
    "al = pd.DataFrame(wm.Material.value_counts())\n",
    "al"
   ]
  },
  {
   "cell_type": "code",
   "execution_count": 33,
   "metadata": {},
   "outputs": [
    {
     "data": {
      "text/html": [
       "<div>\n",
       "<style scoped>\n",
       "    .dataframe tbody tr th:only-of-type {\n",
       "        vertical-align: middle;\n",
       "    }\n",
       "\n",
       "    .dataframe tbody tr th {\n",
       "        vertical-align: top;\n",
       "    }\n",
       "\n",
       "    .dataframe thead th {\n",
       "        text-align: right;\n",
       "    }\n",
       "</style>\n",
       "<table border=\"1\" class=\"dataframe\">\n",
       "  <thead>\n",
       "    <tr style=\"text-align: right;\">\n",
       "      <th></th>\n",
       "      <th>Material</th>\n",
       "      <th>broken</th>\n",
       "      <th>percentage</th>\n",
       "      <th>p</th>\n",
       "      <th>all</th>\n",
       "    </tr>\n",
       "  </thead>\n",
       "  <tbody>\n",
       "    <tr>\n",
       "      <th>DI</th>\n",
       "      <td>14.947</td>\n",
       "      <td>0.394</td>\n",
       "      <td>2.631579</td>\n",
       "      <td>2.63</td>\n",
       "      <td>14.972</td>\n",
       "    </tr>\n",
       "    <tr>\n",
       "      <th>CI</th>\n",
       "      <td>3.725</td>\n",
       "      <td>1.878</td>\n",
       "      <td>65.641384</td>\n",
       "      <td>65.64</td>\n",
       "      <td>2.861</td>\n",
       "    </tr>\n",
       "    <tr>\n",
       "      <th>SAND</th>\n",
       "      <td>2.188</td>\n",
       "      <td>0.363</td>\n",
       "      <td>17.587209</td>\n",
       "      <td>17.59</td>\n",
       "      <td>2.064</td>\n",
       "    </tr>\n",
       "    <tr>\n",
       "      <th>SPUN</th>\n",
       "      <td>1.851</td>\n",
       "      <td>0.844</td>\n",
       "      <td>58.570437</td>\n",
       "      <td>58.57</td>\n",
       "      <td>1.441</td>\n",
       "    </tr>\n",
       "    <tr>\n",
       "      <th>PVC</th>\n",
       "      <td>0.201</td>\n",
       "      <td>0.007</td>\n",
       "      <td>3.301887</td>\n",
       "      <td>3.3</td>\n",
       "      <td>0.212</td>\n",
       "    </tr>\n",
       "    <tr>\n",
       "      <th>COPPER</th>\n",
       "      <td>0.153</td>\n",
       "      <td>0.004</td>\n",
       "      <td>2.614379</td>\n",
       "      <td>2.61</td>\n",
       "      <td>0.153</td>\n",
       "    </tr>\n",
       "    <tr>\n",
       "      <th>CIPP</th>\n",
       "      <td>0.147</td>\n",
       "      <td>0.000</td>\n",
       "      <td>0.000000</td>\n",
       "      <td>0.0</td>\n",
       "      <td>0.147</td>\n",
       "    </tr>\n",
       "    <tr>\n",
       "      <th>HDPE</th>\n",
       "      <td>0.031</td>\n",
       "      <td>0.000</td>\n",
       "      <td>0.000000</td>\n",
       "      <td>0.0</td>\n",
       "      <td>0.031</td>\n",
       "    </tr>\n",
       "  </tbody>\n",
       "</table>\n",
       "</div>"
      ],
      "text/plain": [
       "        Material  broken  percentage      p     all\n",
       "DI        14.947   0.394    2.631579   2.63  14.972\n",
       "CI         3.725   1.878   65.641384  65.64   2.861\n",
       "SAND       2.188   0.363   17.587209  17.59   2.064\n",
       "SPUN       1.851   0.844   58.570437  58.57   1.441\n",
       "PVC        0.201   0.007    3.301887    3.3   0.212\n",
       "COPPER     0.153   0.004    2.614379   2.61   0.153\n",
       "CIPP       0.147   0.000    0.000000    0.0   0.147\n",
       "HDPE       0.031   0.000    0.000000    0.0   0.031"
      ]
     },
     "execution_count": 33,
     "metadata": {},
     "output_type": "execute_result"
    }
   ],
   "source": [
    "material[\"all\"]=al[\"Material\"]/1000\n",
    "material[\"percentage\"] = material[\"broken\"]/material[\"all\"]*100\n",
    "material[\"p\"] = round(material[\"percentage\"],2)\n",
    "material = material.astype({\"p\":str})\n",
    "material"
   ]
  },
  {
   "cell_type": "code",
   "execution_count": 53,
   "metadata": {},
   "outputs": [
    {
     "data": {
      "image/png": "[encoded data removed]",
      "text/plain": [
       "<Figure size 720x432 with 1 Axes>"
      ]
     },
     "metadata": {
      "needs_background": "light"
     },
     "output_type": "display_data"
    }
   ],
   "source": [
    "fig,ax = plt.subplots(figsize = (10,6))\n",
    "total = plt.bar(x=material.index,height = material[\"all\"],color = \"darkorange\")\n",
    "broken = plt.bar(x=material.index,height = material[\"broken\"])\n",
    "#material.plot.bar(y=\"Material\",ax=ax)\n",
    "#material.plot.bar(y=\"broken\",ax=ax,color = \"orange\")\n",
    "ax.spines[\"top\"].set_visible(False)\n",
    "ax.spines[\"right\"].set_visible(False)\n",
    "for idx,rect in enumerate(total):\n",
    "        height = rect.get_height()\n",
    "        ax.text(rect.get_x() + rect.get_width()/2, height+0.2,\n",
    "                material[\"p\"][idx]+\"%\",\n",
    "                ha='center', va='bottom', rotation=0,fontsize = 14)\n",
    "ax.set_xlabel(\"Material of Water Mains\")\n",
    "ax.set_ylabel(\"Number of Water Mains (in Thousands)\")\n",
    "ax.legend([\"All Water Mains\",\"Broken Water Mains\"])\n",
    "plt.tight_layout()\n",
    "#plt.savefig(\"Material of Water Mains.pdf\")"
   ]
  },
  {
   "cell_type": "code",
   "execution_count": 44,
   "metadata": {},
   "outputs": [
    {
     "data": {
      "image/svg+xml": [
       "<svg xmlns=\"http://www.w3.org/2000/svg\" xmlns:xlink=\"http://www.w3.org/1999/xlink\" width=\"100.0\" height=\"100.0\" viewBox=\"818246.6628442383 465305.1354394531 3.9385327147319913 0.2979077148484066\" preserveAspectRatio=\"xMinYMin meet\"><g transform=\"matrix(1,0,0,-1,0,930610.5687866211)\"><polyline fill=\"none\" stroke=\"#66cc99\" stroke-width=\"0.07877065429463982\" points=\"818246.8087158203,465305.28747558594 818250.4555053711,465305.28131103516\" opacity=\"0.8\" /></g></svg>"
      ],
      "text/plain": [
       "<shapely.geometry.linestring.LineString at 0x7f6124ed3518>"
      ]
     },
     "execution_count": 44,
     "metadata": {},
     "output_type": "execute_result"
    }
   ],
   "source": [
    "wm[\"geometry\"][0]"
   ]
  },
  {
   "cell_type": "code",
   "execution_count": 45,
   "metadata": {},
   "outputs": [
    {
     "data": {
      "text/plain": [
       "(818246.8087158203, 465305.28131103516, 818250.4555053711, 465305.28747558594)"
      ]
     },
     "execution_count": 45,
     "metadata": {},
     "output_type": "execute_result"
    }
   ],
   "source": [
    "tryyy.bounds"
   ]
  },
  {
   "cell_type": "code",
   "execution_count": 46,
   "metadata": {},
   "outputs": [
    {
     "data": {
      "text/plain": [
       "0        LINESTRING (818246.809 465305.287, 818250.456 ...\n",
       "1        LINESTRING (818250.645 465308.776, 818250.456 ...\n",
       "2        LINESTRING (819023.477 465921.541, 819025.375 ...\n",
       "3        LINESTRING (819025.375 465918.600, 819032.423 ...\n",
       "4        LINESTRING (818330.485 465303.820, 818346.420 ...\n",
       "                               ...                        \n",
       "22515    LINESTRING (773693.791 484574.175, 773693.674 ...\n",
       "22516    LINESTRING (773691.327 484690.979, 773691.253 ...\n",
       "22517    LINESTRING (788198.035 477702.644, 788198.153 ...\n",
       "22518    LINESTRING (785556.369 477740.132, 785556.743 ...\n",
       "22519    LINESTRING (831627.635 491294.153, 831627.422 ...\n",
       "Name: geometry, Length: 22520, dtype: geometry"
      ]
     },
     "execution_count": 46,
     "metadata": {},
     "output_type": "execute_result"
    }
   ],
   "source": [
    "wm[\"geometry\"]"
   ]
  },
  {
   "cell_type": "code",
   "execution_count": 47,
   "metadata": {},
   "outputs": [
    {
     "name": "stdout",
     "output_type": "stream",
     "text": [
      "3.6467947610708293 degrees\n"
     ]
    }
   ],
   "source": [
    "from shapely.geometry import LineString\n",
    "from shapely.ops import transform\n",
    "from functools import partial\n",
    "import pyproj\n",
    "\n",
    "print(str(tryyy.length) + \" degrees\")\n",
    "# 0.0115488362184 degrees\n"
   ]
  },
  {
   "cell_type": "code",
   "execution_count": 49,
   "metadata": {},
   "outputs": [
    {
     "name": "stdout",
     "output_type": "stream",
     "text": [
      "0.011548836218425469 degrees\n",
      "2569.3495520763076 meters\n"
     ]
    }
   ],
   "source": [
    "line1 = LineString([(15.799406, 40.636069), (15.810173,40.640246)])\n",
    "print(str(line1.length) + \" degrees\")\n",
    "# 0.0115488362184 degrees\n",
    "\n",
    "# Geometry transform function based on pyproj.transform\n",
    "project = partial(\n",
    "    pyproj.transform,\n",
    "    pyproj.Proj('EPSG:4326'),\n",
    "    pyproj.Proj('EPSG:32633'))\n",
    "\n",
    "line2 = transform(project, line1)\n",
    "print(str(line2.length) + \" meters\")\n",
    "# 1021.77585965 meters"
   ]
  },
  {
   "cell_type": "code",
   "execution_count": 60,
   "metadata": {},
   "outputs": [
    {
     "data": {
      "text/plain": [
       "<Projected CRS: ESRI:103412>\n",
       "Name: NAD83(HARN) / WISCRS Dane (ftUS)\n",
       "Axis Info [cartesian]:\n",
       "- E[east]: Easting (US survey foot)\n",
       "- N[north]: Northing (US survey foot)\n",
       "Area of Use:\n",
       "- undefined\n",
       "Coordinate Operation:\n",
       "- name: unnamed\n",
       "- method: Lambert Conic Conformal (1SP)\n",
       "Datum: NAD83 (High Accuracy Reference Network)\n",
       "- Ellipsoid: GRS 1980\n",
       "- Prime Meridian: Greenwich"
      ]
     },
     "execution_count": 60,
     "metadata": {},
     "output_type": "execute_result"
    }
   ],
   "source": [
    "wm[\"geometry\"].crs"
   ]
  },
  {
   "cell_type": "code",
   "execution_count": null,
   "metadata": {},
   "outputs": [],
   "source": []
  }
 ],
 "metadata": {
  "kernelspec": {
   "display_name": "Python 3",
   "language": "python",
   "name": "python3"
  },
  "language_info": {
   "codemirror_mode": {
    "name": "ipython",
    "version": 3
   },
   "file_extension": ".py",
   "mimetype": "text/x-python",
   "name": "python",
   "nbconvert_exporter": "python",
   "pygments_lexer": "ipython3",
   "version": "3.6.9"
  }
 },
 "nbformat": 4,
 "nbformat_minor": 4
}
