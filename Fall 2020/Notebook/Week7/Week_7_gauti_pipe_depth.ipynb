{
 "cells": [
  {
   "cell_type": "code",
   "execution_count": 1,
   "metadata": {},
   "outputs": [],
   "source": [
    "import csv\n",
    "\n",
    "def process_csv(filename):\n",
    "    exampleFile = open(filename, encoding=\"utf-8\")\n",
    "    exampleReader = csv.reader(exampleFile)\n",
    "    exampleData = list(exampleReader)\n",
    "    exampleFile.close()\n",
    "    return exampleData\n",
    "\n",
    "# use process_csv to pull out the header and data rows\n",
    "csv_rows = process_csv(\"water_main_breaks.csv\")\n",
    "csv_header = csv_rows[0]\n",
    "csv_data = csv_rows[1:]"
   ]
  },
  {
   "cell_type": "code",
   "execution_count": 2,
   "metadata": {},
   "outputs": [
    {
     "data": {
      "text/plain": [
       "{'2007': 237,\n",
       " '2008': 197,\n",
       " '1988': 167,\n",
       " '1985': 169,\n",
       " '1984': 122,\n",
       " '1983': 130,\n",
       " '1989': 202,\n",
       " '1980': 153,\n",
       " '1982': 153,\n",
       " '1986': 127,\n",
       " '1987': 127,\n",
       " '1981': 102,\n",
       " '1991': 157,\n",
       " '1994': 187,\n",
       " '1990': 120,\n",
       " '1992': 112,\n",
       " '1993': 134,\n",
       " '1995': 133,\n",
       " '1996': 148,\n",
       " '1997': 136,\n",
       " '2005': 177,\n",
       " '2004': 141,\n",
       " '1998': 120,\n",
       " '2006': 125,\n",
       " '1999': 144,\n",
       " '2001': 139,\n",
       " '2002': 168,\n",
       " '2003': 181,\n",
       " '2000': 196,\n",
       " '2009': 184,\n",
       " '2010': 185,\n",
       " '': 6,\n",
       " '2011': 211,\n",
       " '135': 1,\n",
       " '152': 1,\n",
       " '2012': 208,\n",
       " '2013': 247,\n",
       " '2014': 346,\n",
       " '2015': 179,\n",
       " '2016': 205,\n",
       " '2017': 214,\n",
       " '2018': 272,\n",
       " '2019': 219,\n",
       " '2020': 111}"
      ]
     },
     "execution_count": 2,
     "metadata": {},
     "output_type": "execute_result"
    }
   ],
   "source": [
    "year={}\n",
    "index= csv_header.index(\"break_year\")\n",
    "\n",
    "for i in csv_data:\n",
    "    if i[index] in year:\n",
    "        year[i[index]]+=1\n",
    "    else:\n",
    "        year[i[index]]=1\n",
    "\n",
    "year"
   ]
  },
  {
   "cell_type": "code",
   "execution_count": 3,
   "metadata": {},
   "outputs": [
    {
     "data": {
      "text/plain": [
       "{6.0: 613,\n",
       " 5.5: 261,\n",
       " 4.0: 27,\n",
       " 8.0: 40,\n",
       " 6.5: 183,\n",
       " 5.83: 26,\n",
       " 4.67: 9,\n",
       " 4.42: 1,\n",
       " 4.5: 48,\n",
       " 6.25: 16,\n",
       " 6.08: 15,\n",
       " 7.5: 48,\n",
       " 6.33: 16,\n",
       " 6.58: 6,\n",
       " 5.17: 13,\n",
       " 5.0: 266,\n",
       " 9.0: 24,\n",
       " 4.17: 4,\n",
       " 7.25: 2,\n",
       " 5.58: 11,\n",
       " 5.25: 16,\n",
       " 6.17: 25,\n",
       " 11.0: 4,\n",
       " 7.0: 153,\n",
       " 5.92: 5,\n",
       " 5.67: 28,\n",
       " 6.67: 17,\n",
       " 8.25: 1,\n",
       " 4.83: 2,\n",
       " 9.33: 1,\n",
       " 4.2: 1,\n",
       " 0.0: 2,\n",
       " 6.42: 3,\n",
       " 7.83: 2,\n",
       " 5.33: 4,\n",
       " 7.67: 5,\n",
       " 7.08: 3,\n",
       " 8.5: 9,\n",
       " 7.33: 5,\n",
       " 8.33: 2,\n",
       " 5.2: 1,\n",
       " 6.83: 5,\n",
       " 5.08: 4,\n",
       " 5.7: 1,\n",
       " 7.58: 2,\n",
       " 7.17: 6,\n",
       " 5.6: 1,\n",
       " 3.5: 4,\n",
       " 8.83: 1,\n",
       " 5.75: 8,\n",
       " 12.0: 1,\n",
       " 10.5: 1,\n",
       " 4.33: 2,\n",
       " 3.67: 3,\n",
       " 6.2: 3,\n",
       " 4.25: 4,\n",
       " 6.92: 1,\n",
       " 5.9: 1,\n",
       " 3.0: 1,\n",
       " 6.75: 3,\n",
       " 4.75: 4,\n",
       " 3.83: 1,\n",
       " 11.1: 1,\n",
       " 8.67: 2,\n",
       " 7.75: 2,\n",
       " 9.5: 2,\n",
       " 4.08: 1,\n",
       " 7.6: 1,\n",
       " 6.41: 1,\n",
       " 5.42: 3,\n",
       " 14.0: 1,\n",
       " 10.0: 2,\n",
       " 7.4: 1,\n",
       " 3.58: 1,\n",
       " 16.5: 1,\n",
       " 13.0: 1}"
      ]
     },
     "execution_count": 3,
     "metadata": {},
     "output_type": "execute_result"
    }
   ],
   "source": [
    "from collections import OrderedDict \n",
    "pipe_depth={}\n",
    "index= csv_header.index(\"pipe_depth_ft\")\n",
    "index2=csv_header.index(\"break_year\")\n",
    "\n",
    "for i in csv_data:\n",
    "    try:\n",
    "        if int(i[index2])<=2020 and int(i[index2])>2010:\n",
    "            if float(i[index]) in pipe_depth:\n",
    "                pipe_depth[float(i[index])]+=1\n",
    "            else:\n",
    "                pipe_depth[float(i[index])]=1\n",
    "    except:\n",
    "        continue\n",
    "\n",
    "pipe_depth"
   ]
  },
  {
   "cell_type": "code",
   "execution_count": 4,
   "metadata": {},
   "outputs": [],
   "source": [
    "ranged=list(pipe_depth.keys())"
   ]
  },
  {
   "cell_type": "code",
   "execution_count": 5,
   "metadata": {},
   "outputs": [],
   "source": [
    "frequency=list(pipe_depth.values())"
   ]
  },
  {
   "cell_type": "code",
   "execution_count": 6,
   "metadata": {},
   "outputs": [],
   "source": [
    "import numpy as np\n",
    "\n",
    "x=np.array(ranged).reshape(76,1)"
   ]
  },
  {
   "cell_type": "code",
   "execution_count": 7,
   "metadata": {},
   "outputs": [],
   "source": [
    "x2=np.square(x).reshape(76,1)"
   ]
  },
  {
   "cell_type": "code",
   "execution_count": 8,
   "metadata": {},
   "outputs": [],
   "source": [
    "m= x.shape\n",
    "# Create new matrix to hold the orthonormal basis\n",
    "ones = np.ones(m) "
   ]
  },
  {
   "cell_type": "code",
   "execution_count": 9,
   "metadata": {},
   "outputs": [],
   "source": [
    "X=np.append(x2,x,axis=1)"
   ]
  },
  {
   "cell_type": "code",
   "execution_count": 10,
   "metadata": {},
   "outputs": [],
   "source": [
    "X=np.append(X,ones,axis=1)"
   ]
  },
  {
   "cell_type": "code",
   "execution_count": 11,
   "metadata": {},
   "outputs": [
    {
     "data": {
      "text/plain": [
       "array([[ 36.    ,   6.    ,   1.    ],\n",
       "       [ 30.25  ,   5.5   ,   1.    ],\n",
       "       [ 16.    ,   4.    ,   1.    ],\n",
       "       [ 64.    ,   8.    ,   1.    ],\n",
       "       [ 42.25  ,   6.5   ,   1.    ],\n",
       "       [ 33.9889,   5.83  ,   1.    ],\n",
       "       [ 21.8089,   4.67  ,   1.    ],\n",
       "       [ 19.5364,   4.42  ,   1.    ],\n",
       "       [ 20.25  ,   4.5   ,   1.    ],\n",
       "       [ 39.0625,   6.25  ,   1.    ],\n",
       "       [ 36.9664,   6.08  ,   1.    ],\n",
       "       [ 56.25  ,   7.5   ,   1.    ],\n",
       "       [ 40.0689,   6.33  ,   1.    ],\n",
       "       [ 43.2964,   6.58  ,   1.    ],\n",
       "       [ 26.7289,   5.17  ,   1.    ],\n",
       "       [ 25.    ,   5.    ,   1.    ],\n",
       "       [ 81.    ,   9.    ,   1.    ],\n",
       "       [ 17.3889,   4.17  ,   1.    ],\n",
       "       [ 52.5625,   7.25  ,   1.    ],\n",
       "       [ 31.1364,   5.58  ,   1.    ],\n",
       "       [ 27.5625,   5.25  ,   1.    ],\n",
       "       [ 38.0689,   6.17  ,   1.    ],\n",
       "       [121.    ,  11.    ,   1.    ],\n",
       "       [ 49.    ,   7.    ,   1.    ],\n",
       "       [ 35.0464,   5.92  ,   1.    ],\n",
       "       [ 32.1489,   5.67  ,   1.    ],\n",
       "       [ 44.4889,   6.67  ,   1.    ],\n",
       "       [ 68.0625,   8.25  ,   1.    ],\n",
       "       [ 23.3289,   4.83  ,   1.    ],\n",
       "       [ 87.0489,   9.33  ,   1.    ],\n",
       "       [ 17.64  ,   4.2   ,   1.    ],\n",
       "       [  0.    ,   0.    ,   1.    ],\n",
       "       [ 41.2164,   6.42  ,   1.    ],\n",
       "       [ 61.3089,   7.83  ,   1.    ],\n",
       "       [ 28.4089,   5.33  ,   1.    ],\n",
       "       [ 58.8289,   7.67  ,   1.    ],\n",
       "       [ 50.1264,   7.08  ,   1.    ],\n",
       "       [ 72.25  ,   8.5   ,   1.    ],\n",
       "       [ 53.7289,   7.33  ,   1.    ],\n",
       "       [ 69.3889,   8.33  ,   1.    ],\n",
       "       [ 27.04  ,   5.2   ,   1.    ],\n",
       "       [ 46.6489,   6.83  ,   1.    ],\n",
       "       [ 25.8064,   5.08  ,   1.    ],\n",
       "       [ 32.49  ,   5.7   ,   1.    ],\n",
       "       [ 57.4564,   7.58  ,   1.    ],\n",
       "       [ 51.4089,   7.17  ,   1.    ],\n",
       "       [ 31.36  ,   5.6   ,   1.    ],\n",
       "       [ 12.25  ,   3.5   ,   1.    ],\n",
       "       [ 77.9689,   8.83  ,   1.    ],\n",
       "       [ 33.0625,   5.75  ,   1.    ],\n",
       "       [144.    ,  12.    ,   1.    ],\n",
       "       [110.25  ,  10.5   ,   1.    ],\n",
       "       [ 18.7489,   4.33  ,   1.    ],\n",
       "       [ 13.4689,   3.67  ,   1.    ],\n",
       "       [ 38.44  ,   6.2   ,   1.    ],\n",
       "       [ 18.0625,   4.25  ,   1.    ],\n",
       "       [ 47.8864,   6.92  ,   1.    ],\n",
       "       [ 34.81  ,   5.9   ,   1.    ],\n",
       "       [  9.    ,   3.    ,   1.    ],\n",
       "       [ 45.5625,   6.75  ,   1.    ],\n",
       "       [ 22.5625,   4.75  ,   1.    ],\n",
       "       [ 14.6689,   3.83  ,   1.    ],\n",
       "       [123.21  ,  11.1   ,   1.    ],\n",
       "       [ 75.1689,   8.67  ,   1.    ],\n",
       "       [ 60.0625,   7.75  ,   1.    ],\n",
       "       [ 90.25  ,   9.5   ,   1.    ],\n",
       "       [ 16.6464,   4.08  ,   1.    ],\n",
       "       [ 57.76  ,   7.6   ,   1.    ],\n",
       "       [ 41.0881,   6.41  ,   1.    ],\n",
       "       [ 29.3764,   5.42  ,   1.    ],\n",
       "       [196.    ,  14.    ,   1.    ],\n",
       "       [100.    ,  10.    ,   1.    ],\n",
       "       [ 54.76  ,   7.4   ,   1.    ],\n",
       "       [ 12.8164,   3.58  ,   1.    ],\n",
       "       [272.25  ,  16.5   ,   1.    ],\n",
       "       [169.    ,  13.    ,   1.    ]])"
      ]
     },
     "execution_count": 11,
     "metadata": {},
     "output_type": "execute_result"
    }
   ],
   "source": [
    "X"
   ]
  },
  {
   "cell_type": "code",
   "execution_count": 12,
   "metadata": {},
   "outputs": [
    {
     "data": {
      "text/plain": [
       "array([[613],\n",
       "       [261],\n",
       "       [ 27],\n",
       "       [ 40],\n",
       "       [183],\n",
       "       [ 26],\n",
       "       [  9],\n",
       "       [  1],\n",
       "       [ 48],\n",
       "       [ 16],\n",
       "       [ 15],\n",
       "       [ 48],\n",
       "       [ 16],\n",
       "       [  6],\n",
       "       [ 13],\n",
       "       [266],\n",
       "       [ 24],\n",
       "       [  4],\n",
       "       [  2],\n",
       "       [ 11],\n",
       "       [ 16],\n",
       "       [ 25],\n",
       "       [  4],\n",
       "       [153],\n",
       "       [  5],\n",
       "       [ 28],\n",
       "       [ 17],\n",
       "       [  1],\n",
       "       [  2],\n",
       "       [  1],\n",
       "       [  1],\n",
       "       [  2],\n",
       "       [  3],\n",
       "       [  2],\n",
       "       [  4],\n",
       "       [  5],\n",
       "       [  3],\n",
       "       [  9],\n",
       "       [  5],\n",
       "       [  2],\n",
       "       [  1],\n",
       "       [  5],\n",
       "       [  4],\n",
       "       [  1],\n",
       "       [  2],\n",
       "       [  6],\n",
       "       [  1],\n",
       "       [  4],\n",
       "       [  1],\n",
       "       [  8],\n",
       "       [  1],\n",
       "       [  1],\n",
       "       [  2],\n",
       "       [  3],\n",
       "       [  3],\n",
       "       [  4],\n",
       "       [  1],\n",
       "       [  1],\n",
       "       [  1],\n",
       "       [  3],\n",
       "       [  4],\n",
       "       [  1],\n",
       "       [  1],\n",
       "       [  2],\n",
       "       [  2],\n",
       "       [  2],\n",
       "       [  1],\n",
       "       [  1],\n",
       "       [  1],\n",
       "       [  3],\n",
       "       [  1],\n",
       "       [  2],\n",
       "       [  1],\n",
       "       [  1],\n",
       "       [  1],\n",
       "       [  1]])"
      ]
     },
     "execution_count": 12,
     "metadata": {},
     "output_type": "execute_result"
    }
   ],
   "source": [
    "y=np.array(frequency).reshape(76,1)\n",
    "y"
   ]
  },
  {
   "cell_type": "code",
   "execution_count": 13,
   "metadata": {},
   "outputs": [],
   "source": [
    "w=np.linalg.inv(X.transpose()@X)@X.transpose()@y"
   ]
  },
  {
   "cell_type": "code",
   "execution_count": 14,
   "metadata": {},
   "outputs": [
    {
     "data": {
      "text/plain": [
       "array([[-0.5682947 ],\n",
       "       [ 6.47854102],\n",
       "       [12.16012187]])"
      ]
     },
     "execution_count": 14,
     "metadata": {},
     "output_type": "execute_result"
    }
   ],
   "source": [
    "w"
   ]
  },
  {
   "cell_type": "code",
   "execution_count": 15,
   "metadata": {},
   "outputs": [],
   "source": [
    "y_resultant=X@w"
   ]
  },
  {
   "cell_type": "code",
   "execution_count": 16,
   "metadata": {},
   "outputs": [
    {
     "data": {
      "text/plain": [
       "array([[ 30.5727587 ],\n",
       "       [ 30.60118273],\n",
       "       [ 28.98157071],\n",
       "       [ 27.61758906],\n",
       "       [ 30.26018732],\n",
       "       [ 30.6143042 ],\n",
       "       [ 30.02102609],\n",
       "       [ 29.69284055],\n",
       "       [ 29.80558873],\n",
       "       [ 30.45199142],\n",
       "       [ 30.54184198],\n",
       "       [ 28.7826025 ],\n",
       "       [ 30.39834292],\n",
       "       [ 30.18380702],\n",
       "       [ 30.46428667],\n",
       "       [ 30.34545941],\n",
       "       [ 24.43512014],\n",
       "       [ 29.29361817],\n",
       "       [ 29.25855396],\n",
       "       [ 30.61572958],\n",
       "       [ 30.50883949],\n",
       "       [ 30.49836576],\n",
       "       [ 14.66041407],\n",
       "       [ 29.66346858],\n",
       "       [ 30.59640124],\n",
       "       [ 30.62339989],\n",
       "       [ 30.08918428],\n",
       "       [ 26.92852709],\n",
       "       [ 30.19378471],\n",
       "       [ 23.13548085],\n",
       "       [ 29.3452756 ],\n",
       "       [ 12.16012187],\n",
       "       [ 30.32929344],\n",
       "       [ 28.04557496],\n",
       "       [ 30.54611813],\n",
       "       [ 28.41837926],\n",
       "       [ 29.54162471],\n",
       "       [ 26.16842828],\n",
       "       [ 29.1139783 ],\n",
       "       [ 26.69302428],\n",
       "       [ 30.48184642],\n",
       "       [ 29.89823428],\n",
       "       [ 30.40546984],\n",
       "       [ 30.6239108 ],\n",
       "       [ 28.61529505],\n",
       "       [ 29.39585545],\n",
       "       [ 30.61822971],\n",
       "       [ 27.87340533],\n",
       "       [ 25.05632624],\n",
       "       [ 30.62248913],\n",
       "       [  8.06817693],\n",
       "       [ 17.53031161],\n",
       "       [ 29.55730394],\n",
       "       [ 28.2820629 ],\n",
       "       [ 30.48182783],\n",
       "       [ 29.42909814],\n",
       "       [ 29.77803828],\n",
       "       [ 30.60117529],\n",
       "       [ 26.48109261],\n",
       "       [ 29.99734637],\n",
       "       [ 30.11104249],\n",
       "       [ 28.63667582],\n",
       "       [ 14.05233688],\n",
       "       [ 25.61098484],\n",
       "       [ 28.2356142 ],\n",
       "       [ 22.41766465],\n",
       "       [ 29.1325083 ],\n",
       "       [ 28.5723316 ],\n",
       "       [ 30.33742024],\n",
       "       [ 30.5793617 ],\n",
       "       [ -8.52606557],\n",
       "       [ 20.11606181],\n",
       "       [ 28.9815075 ],\n",
       "       [ 28.0698065 ],\n",
       "       [-35.6621841 ],\n",
       "       [  0.33935038]])"
      ]
     },
     "execution_count": 16,
     "metadata": {},
     "output_type": "execute_result"
    }
   ],
   "source": [
    "y_resultant"
   ]
  },
  {
   "cell_type": "code",
   "execution_count": 17,
   "metadata": {},
   "outputs": [],
   "source": [
    "test_x=np.arange(1,17,1)\n",
    "test_x=np.array(test_x).reshape(16,1)"
   ]
  },
  {
   "cell_type": "code",
   "execution_count": 18,
   "metadata": {},
   "outputs": [
    {
     "data": {
      "text/plain": [
       "array([[  1],\n",
       "       [  4],\n",
       "       [  9],\n",
       "       [ 16],\n",
       "       [ 25],\n",
       "       [ 36],\n",
       "       [ 49],\n",
       "       [ 64],\n",
       "       [ 81],\n",
       "       [100],\n",
       "       [121],\n",
       "       [144],\n",
       "       [169],\n",
       "       [196],\n",
       "       [225],\n",
       "       [256]])"
      ]
     },
     "execution_count": 18,
     "metadata": {},
     "output_type": "execute_result"
    }
   ],
   "source": [
    "test_x2=np.square(test_x)\n",
    "test_x2"
   ]
  },
  {
   "cell_type": "code",
   "execution_count": 19,
   "metadata": {},
   "outputs": [],
   "source": [
    "m= test_x.shape\n",
    "# Create new matrix to hold the orthonormal basis\n",
    "test_1 = np.ones(m)"
   ]
  },
  {
   "cell_type": "code",
   "execution_count": 20,
   "metadata": {},
   "outputs": [],
   "source": [
    "test=np.append(test_x2,test_x,axis=1)"
   ]
  },
  {
   "cell_type": "code",
   "execution_count": 21,
   "metadata": {},
   "outputs": [],
   "source": [
    "test=np.append(test,test_1,axis=1)"
   ]
  },
  {
   "cell_type": "code",
   "execution_count": 22,
   "metadata": {},
   "outputs": [
    {
     "data": {
      "text/plain": [
       "array([[  1.,   1.,   1.],\n",
       "       [  4.,   2.,   1.],\n",
       "       [  9.,   3.,   1.],\n",
       "       [ 16.,   4.,   1.],\n",
       "       [ 25.,   5.,   1.],\n",
       "       [ 36.,   6.,   1.],\n",
       "       [ 49.,   7.,   1.],\n",
       "       [ 64.,   8.,   1.],\n",
       "       [ 81.,   9.,   1.],\n",
       "       [100.,  10.,   1.],\n",
       "       [121.,  11.,   1.],\n",
       "       [144.,  12.,   1.],\n",
       "       [169.,  13.,   1.],\n",
       "       [196.,  14.,   1.],\n",
       "       [225.,  15.,   1.],\n",
       "       [256.,  16.,   1.]])"
      ]
     },
     "execution_count": 22,
     "metadata": {},
     "output_type": "execute_result"
    }
   ],
   "source": [
    "test"
   ]
  },
  {
   "cell_type": "code",
   "execution_count": 23,
   "metadata": {},
   "outputs": [],
   "source": [
    "y_test=test@w"
   ]
  },
  {
   "cell_type": "code",
   "execution_count": 24,
   "metadata": {},
   "outputs": [
    {
     "data": {
      "text/plain": [
       "array([[ 18.07036819],\n",
       "       [ 22.8440251 ],\n",
       "       [ 26.48109261],\n",
       "       [ 28.98157071],\n",
       "       [ 30.34545941],\n",
       "       [ 30.5727587 ],\n",
       "       [ 29.66346858],\n",
       "       [ 27.61758906],\n",
       "       [ 24.43512014],\n",
       "       [ 20.11606181],\n",
       "       [ 14.66041407],\n",
       "       [  8.06817693],\n",
       "       [  0.33935038],\n",
       "       [ -8.52606557],\n",
       "       [-18.52807093],\n",
       "       [-29.66666569]])"
      ]
     },
     "execution_count": 24,
     "metadata": {},
     "output_type": "execute_result"
    }
   ],
   "source": [
    "y_test"
   ]
  },
  {
   "cell_type": "code",
   "execution_count": 25,
   "metadata": {},
   "outputs": [
    {
     "data": {
      "text/plain": [
       "{1: 18.0703681893419,\n",
       " 2: 22.84402510147079,\n",
       " 3: 26.481092608270412,\n",
       " 4: 28.981570709740755,\n",
       " 5: 30.34545940588183,\n",
       " 6: 30.57275869669364,\n",
       " 7: 29.66346858217617,\n",
       " 8: 27.617589062329426,\n",
       " 9: 24.435120137153408,\n",
       " 10: 20.116061806648123,\n",
       " 11: 14.660414070813577,\n",
       " 12: 8.068176929649756,\n",
       " 13: 0.33935038315664556,\n",
       " 14: -8.526065568665725,\n",
       " 15: -18.528070925817385,\n",
       " 16: -29.66666568829829}"
      ]
     },
     "execution_count": 25,
     "metadata": {},
     "output_type": "execute_result"
    }
   ],
   "source": [
    "test_dict={}\n",
    "for i in range(16):\n",
    "    test_dict[i+1]=y_test[i][0]\n",
    "test_dict"
   ]
  },
  {
   "cell_type": "code",
   "execution_count": 26,
   "metadata": {},
   "outputs": [],
   "source": [
    "import matplotlib.pyplot as plt\n",
    "from pandas import Series\n",
    "from pandas import DataFrame\n",
    "%matplotlib inline"
   ]
  },
  {
   "cell_type": "code",
   "execution_count": 27,
   "metadata": {},
   "outputs": [
    {
     "data": {
      "text/html": [
       "<div>\n",
       "<style scoped>\n",
       "    .dataframe tbody tr th:only-of-type {\n",
       "        vertical-align: middle;\n",
       "    }\n",
       "\n",
       "    .dataframe tbody tr th {\n",
       "        vertical-align: top;\n",
       "    }\n",
       "\n",
       "    .dataframe thead th {\n",
       "        text-align: right;\n",
       "    }\n",
       "</style>\n",
       "<table border=\"1\" class=\"dataframe\">\n",
       "  <thead>\n",
       "    <tr style=\"text-align: right;\">\n",
       "      <th></th>\n",
       "      <th>Main Breaks</th>\n",
       "    </tr>\n",
       "  </thead>\n",
       "  <tbody>\n",
       "    <tr>\n",
       "      <th>1.0</th>\n",
       "      <td>18.070368</td>\n",
       "    </tr>\n",
       "    <tr>\n",
       "      <th>2.0</th>\n",
       "      <td>22.844025</td>\n",
       "    </tr>\n",
       "    <tr>\n",
       "      <th>3.0</th>\n",
       "      <td>26.481093</td>\n",
       "    </tr>\n",
       "    <tr>\n",
       "      <th>4.0</th>\n",
       "      <td>28.981571</td>\n",
       "    </tr>\n",
       "    <tr>\n",
       "      <th>5.0</th>\n",
       "      <td>30.345459</td>\n",
       "    </tr>\n",
       "    <tr>\n",
       "      <th>6.0</th>\n",
       "      <td>30.572759</td>\n",
       "    </tr>\n",
       "    <tr>\n",
       "      <th>7.0</th>\n",
       "      <td>29.663469</td>\n",
       "    </tr>\n",
       "    <tr>\n",
       "      <th>8.0</th>\n",
       "      <td>27.617589</td>\n",
       "    </tr>\n",
       "    <tr>\n",
       "      <th>9.0</th>\n",
       "      <td>24.435120</td>\n",
       "    </tr>\n",
       "    <tr>\n",
       "      <th>10.0</th>\n",
       "      <td>20.116062</td>\n",
       "    </tr>\n",
       "    <tr>\n",
       "      <th>11.0</th>\n",
       "      <td>14.660414</td>\n",
       "    </tr>\n",
       "    <tr>\n",
       "      <th>12.0</th>\n",
       "      <td>8.068177</td>\n",
       "    </tr>\n",
       "    <tr>\n",
       "      <th>13.0</th>\n",
       "      <td>0.339350</td>\n",
       "    </tr>\n",
       "    <tr>\n",
       "      <th>14.0</th>\n",
       "      <td>-8.526066</td>\n",
       "    </tr>\n",
       "    <tr>\n",
       "      <th>15.0</th>\n",
       "      <td>-18.528071</td>\n",
       "    </tr>\n",
       "    <tr>\n",
       "      <th>16.0</th>\n",
       "      <td>-29.666666</td>\n",
       "    </tr>\n",
       "  </tbody>\n",
       "</table>\n",
       "</div>"
      ],
      "text/plain": [
       "      Main Breaks\n",
       "1.0     18.070368\n",
       "2.0     22.844025\n",
       "3.0     26.481093\n",
       "4.0     28.981571\n",
       "5.0     30.345459\n",
       "6.0     30.572759\n",
       "7.0     29.663469\n",
       "8.0     27.617589\n",
       "9.0     24.435120\n",
       "10.0    20.116062\n",
       "11.0    14.660414\n",
       "12.0     8.068177\n",
       "13.0     0.339350\n",
       "14.0    -8.526066\n",
       "15.0   -18.528071\n",
       "16.0   -29.666666"
      ]
     },
     "execution_count": 27,
     "metadata": {},
     "output_type": "execute_result"
    }
   ],
   "source": [
    "df=DataFrame(Series(test_dict))\n",
    "df.index=df.index.astype(float)\n",
    "df=df.sort_index()\n",
    "df=df.rename(columns={0:'Main Breaks'})\n",
    "df"
   ]
  },
  {
   "cell_type": "code",
   "execution_count": 28,
   "metadata": {},
   "outputs": [
    {
     "data": {
      "image/png": "[encoded data removed]",
      "text/plain": [
       "<Figure size 360x360 with 1 Axes>"
      ]
     },
     "metadata": {
      "needs_background": "light"
     },
     "output_type": "display_data"
    }
   ],
   "source": [
    "ax1= df.plot.line(color=\"r\",xticks=[0,2,4,6,8,10,12,14],figsize=[5,5])\n",
    "ax1.set_xlim([0,15])\n",
    "ax1.set_ylim([0,36])\n",
    "ax1.set_ylabel(\"Number of Pipes\")\n",
    "ax1.set_xlabel(\"Pipe Depth (ft.)\")\n",
    "ax1.spines[\"top\"].set_visible(False)\n",
    "ax1.spines[\"right\"].set_visible(False)"
   ]
  },
  {
   "cell_type": "code",
   "execution_count": null,
   "metadata": {},
   "outputs": [],
   "source": []
  },
  {
   "cell_type": "code",
   "execution_count": 29,
   "metadata": {},
   "outputs": [
    {
     "data": {
      "text/plain": [
       "array([[ 216.      ],\n",
       "       [ 166.375   ],\n",
       "       [  64.      ],\n",
       "       [ 512.      ],\n",
       "       [ 274.625   ],\n",
       "       [ 198.155287],\n",
       "       [ 101.847563],\n",
       "       [  86.350888],\n",
       "       [  91.125   ],\n",
       "       [ 244.140625],\n",
       "       [ 224.755712],\n",
       "       [ 421.875   ],\n",
       "       [ 253.636137],\n",
       "       [ 284.890312],\n",
       "       [ 138.188413],\n",
       "       [ 125.      ],\n",
       "       [ 729.      ],\n",
       "       [  72.511713],\n",
       "       [ 381.078125],\n",
       "       [ 173.741112],\n",
       "       [ 144.703125],\n",
       "       [ 234.885113],\n",
       "       [1331.      ],\n",
       "       [ 343.      ],\n",
       "       [ 207.474688],\n",
       "       [ 182.284263],\n",
       "       [ 296.740963],\n",
       "       [ 561.515625],\n",
       "       [ 112.678587],\n",
       "       [ 812.166237],\n",
       "       [  74.088   ],\n",
       "       [   0.      ],\n",
       "       [ 264.609288],\n",
       "       [ 480.048687],\n",
       "       [ 151.419437],\n",
       "       [ 451.217663],\n",
       "       [ 354.894912],\n",
       "       [ 614.125   ],\n",
       "       [ 393.832837],\n",
       "       [ 578.009537],\n",
       "       [ 140.608   ],\n",
       "       [ 318.611987],\n",
       "       [ 131.096512],\n",
       "       [ 185.193   ],\n",
       "       [ 435.519512],\n",
       "       [ 368.601813],\n",
       "       [ 175.616   ],\n",
       "       [  42.875   ],\n",
       "       [ 688.465387],\n",
       "       [ 190.109375],\n",
       "       [1728.      ],\n",
       "       [1157.625   ],\n",
       "       [  81.182737],\n",
       "       [  49.430863],\n",
       "       [ 238.328   ],\n",
       "       [  76.765625],\n",
       "       [ 331.373888],\n",
       "       [ 205.379   ],\n",
       "       [  27.      ],\n",
       "       [ 307.546875],\n",
       "       [ 107.171875],\n",
       "       [  56.181887],\n",
       "       [1367.631   ],\n",
       "       [ 651.714363],\n",
       "       [ 465.484375],\n",
       "       [ 857.375   ],\n",
       "       [  67.917312],\n",
       "       [ 438.976   ],\n",
       "       [ 263.374721],\n",
       "       [ 159.220088],\n",
       "       [2744.      ],\n",
       "       [1000.      ],\n",
       "       [ 405.224   ],\n",
       "       [  45.882712],\n",
       "       [4492.125   ],\n",
       "       [2197.      ]])"
      ]
     },
     "execution_count": 29,
     "metadata": {},
     "output_type": "execute_result"
    }
   ],
   "source": [
    "x3=x**3\n",
    "x3"
   ]
  },
  {
   "cell_type": "code",
   "execution_count": 30,
   "metadata": {},
   "outputs": [
    {
     "data": {
      "text/plain": [
       "array([[2.16000000e+02, 3.60000000e+01, 6.00000000e+00, 1.00000000e+00],\n",
       "       [1.66375000e+02, 3.02500000e+01, 5.50000000e+00, 1.00000000e+00],\n",
       "       [6.40000000e+01, 1.60000000e+01, 4.00000000e+00, 1.00000000e+00],\n",
       "       [5.12000000e+02, 6.40000000e+01, 8.00000000e+00, 1.00000000e+00],\n",
       "       [2.74625000e+02, 4.22500000e+01, 6.50000000e+00, 1.00000000e+00],\n",
       "       [1.98155287e+02, 3.39889000e+01, 5.83000000e+00, 1.00000000e+00],\n",
       "       [1.01847563e+02, 2.18089000e+01, 4.67000000e+00, 1.00000000e+00],\n",
       "       [8.63508880e+01, 1.95364000e+01, 4.42000000e+00, 1.00000000e+00],\n",
       "       [9.11250000e+01, 2.02500000e+01, 4.50000000e+00, 1.00000000e+00],\n",
       "       [2.44140625e+02, 3.90625000e+01, 6.25000000e+00, 1.00000000e+00],\n",
       "       [2.24755712e+02, 3.69664000e+01, 6.08000000e+00, 1.00000000e+00],\n",
       "       [4.21875000e+02, 5.62500000e+01, 7.50000000e+00, 1.00000000e+00],\n",
       "       [2.53636137e+02, 4.00689000e+01, 6.33000000e+00, 1.00000000e+00],\n",
       "       [2.84890312e+02, 4.32964000e+01, 6.58000000e+00, 1.00000000e+00],\n",
       "       [1.38188413e+02, 2.67289000e+01, 5.17000000e+00, 1.00000000e+00],\n",
       "       [1.25000000e+02, 2.50000000e+01, 5.00000000e+00, 1.00000000e+00],\n",
       "       [7.29000000e+02, 8.10000000e+01, 9.00000000e+00, 1.00000000e+00],\n",
       "       [7.25117130e+01, 1.73889000e+01, 4.17000000e+00, 1.00000000e+00],\n",
       "       [3.81078125e+02, 5.25625000e+01, 7.25000000e+00, 1.00000000e+00],\n",
       "       [1.73741112e+02, 3.11364000e+01, 5.58000000e+00, 1.00000000e+00],\n",
       "       [1.44703125e+02, 2.75625000e+01, 5.25000000e+00, 1.00000000e+00],\n",
       "       [2.34885113e+02, 3.80689000e+01, 6.17000000e+00, 1.00000000e+00],\n",
       "       [1.33100000e+03, 1.21000000e+02, 1.10000000e+01, 1.00000000e+00],\n",
       "       [3.43000000e+02, 4.90000000e+01, 7.00000000e+00, 1.00000000e+00],\n",
       "       [2.07474688e+02, 3.50464000e+01, 5.92000000e+00, 1.00000000e+00],\n",
       "       [1.82284263e+02, 3.21489000e+01, 5.67000000e+00, 1.00000000e+00],\n",
       "       [2.96740963e+02, 4.44889000e+01, 6.67000000e+00, 1.00000000e+00],\n",
       "       [5.61515625e+02, 6.80625000e+01, 8.25000000e+00, 1.00000000e+00],\n",
       "       [1.12678587e+02, 2.33289000e+01, 4.83000000e+00, 1.00000000e+00],\n",
       "       [8.12166237e+02, 8.70489000e+01, 9.33000000e+00, 1.00000000e+00],\n",
       "       [7.40880000e+01, 1.76400000e+01, 4.20000000e+00, 1.00000000e+00],\n",
       "       [0.00000000e+00, 0.00000000e+00, 0.00000000e+00, 1.00000000e+00],\n",
       "       [2.64609288e+02, 4.12164000e+01, 6.42000000e+00, 1.00000000e+00],\n",
       "       [4.80048687e+02, 6.13089000e+01, 7.83000000e+00, 1.00000000e+00],\n",
       "       [1.51419437e+02, 2.84089000e+01, 5.33000000e+00, 1.00000000e+00],\n",
       "       [4.51217663e+02, 5.88289000e+01, 7.67000000e+00, 1.00000000e+00],\n",
       "       [3.54894912e+02, 5.01264000e+01, 7.08000000e+00, 1.00000000e+00],\n",
       "       [6.14125000e+02, 7.22500000e+01, 8.50000000e+00, 1.00000000e+00],\n",
       "       [3.93832837e+02, 5.37289000e+01, 7.33000000e+00, 1.00000000e+00],\n",
       "       [5.78009537e+02, 6.93889000e+01, 8.33000000e+00, 1.00000000e+00],\n",
       "       [1.40608000e+02, 2.70400000e+01, 5.20000000e+00, 1.00000000e+00],\n",
       "       [3.18611987e+02, 4.66489000e+01, 6.83000000e+00, 1.00000000e+00],\n",
       "       [1.31096512e+02, 2.58064000e+01, 5.08000000e+00, 1.00000000e+00],\n",
       "       [1.85193000e+02, 3.24900000e+01, 5.70000000e+00, 1.00000000e+00],\n",
       "       [4.35519512e+02, 5.74564000e+01, 7.58000000e+00, 1.00000000e+00],\n",
       "       [3.68601813e+02, 5.14089000e+01, 7.17000000e+00, 1.00000000e+00],\n",
       "       [1.75616000e+02, 3.13600000e+01, 5.60000000e+00, 1.00000000e+00],\n",
       "       [4.28750000e+01, 1.22500000e+01, 3.50000000e+00, 1.00000000e+00],\n",
       "       [6.88465387e+02, 7.79689000e+01, 8.83000000e+00, 1.00000000e+00],\n",
       "       [1.90109375e+02, 3.30625000e+01, 5.75000000e+00, 1.00000000e+00],\n",
       "       [1.72800000e+03, 1.44000000e+02, 1.20000000e+01, 1.00000000e+00],\n",
       "       [1.15762500e+03, 1.10250000e+02, 1.05000000e+01, 1.00000000e+00],\n",
       "       [8.11827370e+01, 1.87489000e+01, 4.33000000e+00, 1.00000000e+00],\n",
       "       [4.94308630e+01, 1.34689000e+01, 3.67000000e+00, 1.00000000e+00],\n",
       "       [2.38328000e+02, 3.84400000e+01, 6.20000000e+00, 1.00000000e+00],\n",
       "       [7.67656250e+01, 1.80625000e+01, 4.25000000e+00, 1.00000000e+00],\n",
       "       [3.31373888e+02, 4.78864000e+01, 6.92000000e+00, 1.00000000e+00],\n",
       "       [2.05379000e+02, 3.48100000e+01, 5.90000000e+00, 1.00000000e+00],\n",
       "       [2.70000000e+01, 9.00000000e+00, 3.00000000e+00, 1.00000000e+00],\n",
       "       [3.07546875e+02, 4.55625000e+01, 6.75000000e+00, 1.00000000e+00],\n",
       "       [1.07171875e+02, 2.25625000e+01, 4.75000000e+00, 1.00000000e+00],\n",
       "       [5.61818870e+01, 1.46689000e+01, 3.83000000e+00, 1.00000000e+00],\n",
       "       [1.36763100e+03, 1.23210000e+02, 1.11000000e+01, 1.00000000e+00],\n",
       "       [6.51714363e+02, 7.51689000e+01, 8.67000000e+00, 1.00000000e+00],\n",
       "       [4.65484375e+02, 6.00625000e+01, 7.75000000e+00, 1.00000000e+00],\n",
       "       [8.57375000e+02, 9.02500000e+01, 9.50000000e+00, 1.00000000e+00],\n",
       "       [6.79173120e+01, 1.66464000e+01, 4.08000000e+00, 1.00000000e+00],\n",
       "       [4.38976000e+02, 5.77600000e+01, 7.60000000e+00, 1.00000000e+00],\n",
       "       [2.63374721e+02, 4.10881000e+01, 6.41000000e+00, 1.00000000e+00],\n",
       "       [1.59220088e+02, 2.93764000e+01, 5.42000000e+00, 1.00000000e+00],\n",
       "       [2.74400000e+03, 1.96000000e+02, 1.40000000e+01, 1.00000000e+00],\n",
       "       [1.00000000e+03, 1.00000000e+02, 1.00000000e+01, 1.00000000e+00],\n",
       "       [4.05224000e+02, 5.47600000e+01, 7.40000000e+00, 1.00000000e+00],\n",
       "       [4.58827120e+01, 1.28164000e+01, 3.58000000e+00, 1.00000000e+00],\n",
       "       [4.49212500e+03, 2.72250000e+02, 1.65000000e+01, 1.00000000e+00],\n",
       "       [2.19700000e+03, 1.69000000e+02, 1.30000000e+01, 1.00000000e+00]])"
      ]
     },
     "execution_count": 30,
     "metadata": {},
     "output_type": "execute_result"
    }
   ],
   "source": [
    "Xv2=np.append(x3,X,axis=1)\n",
    "Xv2"
   ]
  },
  {
   "cell_type": "code",
   "execution_count": 31,
   "metadata": {},
   "outputs": [
    {
     "data": {
      "text/plain": [
       "array([[  0.14134855],\n",
       "       [ -4.06416415],\n",
       "       [ 30.95771733],\n",
       "       [-35.70948572]])"
      ]
     },
     "execution_count": 31,
     "metadata": {},
     "output_type": "execute_result"
    }
   ],
   "source": [
    "wv2=np.linalg.inv(Xv2.transpose()@Xv2)@Xv2.transpose()@y\n",
    "wv2"
   ]
  },
  {
   "cell_type": "code",
   "execution_count": 32,
   "metadata": {},
   "outputs": [],
   "source": [
    "test_x3=test_x**3"
   ]
  },
  {
   "cell_type": "code",
   "execution_count": 33,
   "metadata": {},
   "outputs": [
    {
     "data": {
      "text/plain": [
       "array([[1.000e+00, 1.000e+00, 1.000e+00, 1.000e+00],\n",
       "       [8.000e+00, 4.000e+00, 2.000e+00, 1.000e+00],\n",
       "       [2.700e+01, 9.000e+00, 3.000e+00, 1.000e+00],\n",
       "       [6.400e+01, 1.600e+01, 4.000e+00, 1.000e+00],\n",
       "       [1.250e+02, 2.500e+01, 5.000e+00, 1.000e+00],\n",
       "       [2.160e+02, 3.600e+01, 6.000e+00, 1.000e+00],\n",
       "       [3.430e+02, 4.900e+01, 7.000e+00, 1.000e+00],\n",
       "       [5.120e+02, 6.400e+01, 8.000e+00, 1.000e+00],\n",
       "       [7.290e+02, 8.100e+01, 9.000e+00, 1.000e+00],\n",
       "       [1.000e+03, 1.000e+02, 1.000e+01, 1.000e+00],\n",
       "       [1.331e+03, 1.210e+02, 1.100e+01, 1.000e+00],\n",
       "       [1.728e+03, 1.440e+02, 1.200e+01, 1.000e+00],\n",
       "       [2.197e+03, 1.690e+02, 1.300e+01, 1.000e+00],\n",
       "       [2.744e+03, 1.960e+02, 1.400e+01, 1.000e+00],\n",
       "       [3.375e+03, 2.250e+02, 1.500e+01, 1.000e+00],\n",
       "       [4.096e+03, 2.560e+02, 1.600e+01, 1.000e+00]])"
      ]
     },
     "execution_count": 33,
     "metadata": {},
     "output_type": "execute_result"
    }
   ],
   "source": [
    "testv2=np.append(test_x3,test,axis=1)\n",
    "testv2"
   ]
  },
  {
   "cell_type": "code",
   "execution_count": 34,
   "metadata": {},
   "outputs": [],
   "source": [
    "y_testv2=testv2@wv2"
   ]
  },
  {
   "cell_type": "code",
   "execution_count": 35,
   "metadata": {},
   "outputs": [
    {
     "data": {
      "text/plain": [
       "{1: -8.674583988792282,\n",
       " 2: 11.080080721407654,\n",
       " 3: 24.40259968848646,\n",
       " 4: 32.14106418708131,\n",
       " 5: 35.143565491829406,\n",
       " 6: 34.258194877367885,\n",
       " 7: 30.33304361833393,\n",
       " 8: 24.216202989364717,\n",
       " 9: 16.75576426509747,\n",
       " 10: 8.799818720169355,\n",
       " 11: 1.1964576292174343,\n",
       " 12: -5.206227733120954,\n",
       " 13: -9.56014609220881,\n",
       " 14: -11.017206173408795,\n",
       " 15: -8.729316702083793,\n",
       " 16: -1.848386403596578}"
      ]
     },
     "execution_count": 35,
     "metadata": {},
     "output_type": "execute_result"
    }
   ],
   "source": [
    "test_dictv2={}\n",
    "for i in range(16):\n",
    "    test_dictv2[i+1]=y_testv2[i][0]\n",
    "test_dictv2"
   ]
  },
  {
   "cell_type": "code",
   "execution_count": 36,
   "metadata": {},
   "outputs": [
    {
     "data": {
      "text/html": [
       "<div>\n",
       "<style scoped>\n",
       "    .dataframe tbody tr th:only-of-type {\n",
       "        vertical-align: middle;\n",
       "    }\n",
       "\n",
       "    .dataframe tbody tr th {\n",
       "        vertical-align: top;\n",
       "    }\n",
       "\n",
       "    .dataframe thead th {\n",
       "        text-align: right;\n",
       "    }\n",
       "</style>\n",
       "<table border=\"1\" class=\"dataframe\">\n",
       "  <thead>\n",
       "    <tr style=\"text-align: right;\">\n",
       "      <th></th>\n",
       "      <th>Main Breaks</th>\n",
       "    </tr>\n",
       "  </thead>\n",
       "  <tbody>\n",
       "    <tr>\n",
       "      <th>1.0</th>\n",
       "      <td>-8.674584</td>\n",
       "    </tr>\n",
       "    <tr>\n",
       "      <th>2.0</th>\n",
       "      <td>11.080081</td>\n",
       "    </tr>\n",
       "    <tr>\n",
       "      <th>3.0</th>\n",
       "      <td>24.402600</td>\n",
       "    </tr>\n",
       "    <tr>\n",
       "      <th>4.0</th>\n",
       "      <td>32.141064</td>\n",
       "    </tr>\n",
       "    <tr>\n",
       "      <th>5.0</th>\n",
       "      <td>35.143565</td>\n",
       "    </tr>\n",
       "    <tr>\n",
       "      <th>6.0</th>\n",
       "      <td>34.258195</td>\n",
       "    </tr>\n",
       "    <tr>\n",
       "      <th>7.0</th>\n",
       "      <td>30.333044</td>\n",
       "    </tr>\n",
       "    <tr>\n",
       "      <th>8.0</th>\n",
       "      <td>24.216203</td>\n",
       "    </tr>\n",
       "    <tr>\n",
       "      <th>9.0</th>\n",
       "      <td>16.755764</td>\n",
       "    </tr>\n",
       "    <tr>\n",
       "      <th>10.0</th>\n",
       "      <td>8.799819</td>\n",
       "    </tr>\n",
       "    <tr>\n",
       "      <th>11.0</th>\n",
       "      <td>1.196458</td>\n",
       "    </tr>\n",
       "    <tr>\n",
       "      <th>12.0</th>\n",
       "      <td>-5.206228</td>\n",
       "    </tr>\n",
       "    <tr>\n",
       "      <th>13.0</th>\n",
       "      <td>-9.560146</td>\n",
       "    </tr>\n",
       "    <tr>\n",
       "      <th>14.0</th>\n",
       "      <td>-11.017206</td>\n",
       "    </tr>\n",
       "    <tr>\n",
       "      <th>15.0</th>\n",
       "      <td>-8.729317</td>\n",
       "    </tr>\n",
       "    <tr>\n",
       "      <th>16.0</th>\n",
       "      <td>-1.848386</td>\n",
       "    </tr>\n",
       "  </tbody>\n",
       "</table>\n",
       "</div>"
      ],
      "text/plain": [
       "      Main Breaks\n",
       "1.0     -8.674584\n",
       "2.0     11.080081\n",
       "3.0     24.402600\n",
       "4.0     32.141064\n",
       "5.0     35.143565\n",
       "6.0     34.258195\n",
       "7.0     30.333044\n",
       "8.0     24.216203\n",
       "9.0     16.755764\n",
       "10.0     8.799819\n",
       "11.0     1.196458\n",
       "12.0    -5.206228\n",
       "13.0    -9.560146\n",
       "14.0   -11.017206\n",
       "15.0    -8.729317\n",
       "16.0    -1.848386"
      ]
     },
     "execution_count": 36,
     "metadata": {},
     "output_type": "execute_result"
    }
   ],
   "source": [
    "df2=DataFrame(Series(test_dictv2))\n",
    "df2.index=df2.index.astype(float)\n",
    "df2=df2.sort_index()\n",
    "df2=df2.rename(columns={0:'Main Breaks'})\n",
    "df2"
   ]
  },
  {
   "cell_type": "code",
   "execution_count": 37,
   "metadata": {},
   "outputs": [
    {
     "data": {
      "image/png": "[encoded data removed]",
      "text/plain": [
       "<Figure size 360x360 with 1 Axes>"
      ]
     },
     "metadata": {
      "needs_background": "light"
     },
     "output_type": "display_data"
    }
   ],
   "source": [
    "ax1= df2.plot.line(color=\"r\",xticks=[0,2,4,6,8,10,12],figsize=[5,5])\n",
    "ax1.set_xlim([0,12.5])\n",
    "ax1.set_ylim([0,39])\n",
    "ax1.set_ylabel(\"Number of Water Main Breaks\")\n",
    "ax1.set_xlabel(\"Pipe Depth (ft.)\")\n",
    "ax1.spines[\"top\"].set_visible(False)\n",
    "ax1.spines[\"right\"].set_visible(False)"
   ]
  },
  {
   "cell_type": "code",
   "execution_count": null,
   "metadata": {},
   "outputs": [],
   "source": []
  }
 ],
 "metadata": {
  "kernelspec": {
   "display_name": "Python 3",
   "language": "python",
   "name": "python3"
  },
  "language_info": {
   "codemirror_mode": {
    "name": "ipython",
    "version": 3
   },
   "file_extension": ".py",
   "mimetype": "text/x-python",
   "name": "python",
   "nbconvert_exporter": "python",
   "pygments_lexer": "ipython3",
   "version": "3.6.9"
  }
 },
 "nbformat": 4,
 "nbformat_minor": 4
}
