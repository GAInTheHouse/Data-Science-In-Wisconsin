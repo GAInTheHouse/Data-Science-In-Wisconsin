{
 "cells": [
  {
   "cell_type": "code",
   "execution_count": 116,
   "metadata": {},
   "outputs": [],
   "source": [
    "import pandas as pd\n",
    "import numpy as np\n",
    "import matplotlib\n",
    "from matplotlib import pyplot as plt"
   ]
  },
  {
   "cell_type": "code",
   "execution_count": 117,
   "metadata": {},
   "outputs": [],
   "source": [
    "df = pd.read_csv(\"data/soil_type and season.csv\")"
   ]
  },
  {
   "cell_type": "code",
   "execution_count": 81,
   "metadata": {},
   "outputs": [
    {
     "data": {
      "text/html": [
       "<div>\n",
       "<style scoped>\n",
       "    .dataframe tbody tr th:only-of-type {\n",
       "        vertical-align: middle;\n",
       "    }\n",
       "\n",
       "    .dataframe tbody tr th {\n",
       "        vertical-align: top;\n",
       "    }\n",
       "\n",
       "    .dataframe thead th {\n",
       "        text-align: right;\n",
       "    }\n",
       "</style>\n",
       "<table border=\"1\" class=\"dataframe\">\n",
       "  <thead>\n",
       "    <tr style=\"text-align: right;\">\n",
       "      <th></th>\n",
       "      <th>soil_type</th>\n",
       "      <th>date</th>\n",
       "      <th>season</th>\n",
       "    </tr>\n",
       "  </thead>\n",
       "  <tbody>\n",
       "    <tr>\n",
       "      <th>0</th>\n",
       "      <td>sand, clay</td>\n",
       "      <td>1997-10-08</td>\n",
       "      <td>Fall</td>\n",
       "    </tr>\n",
       "    <tr>\n",
       "      <th>1</th>\n",
       "      <td>clay</td>\n",
       "      <td>1999-01-01</td>\n",
       "      <td>Winter</td>\n",
       "    </tr>\n",
       "    <tr>\n",
       "      <th>2</th>\n",
       "      <td>sand, clay, gravel</td>\n",
       "      <td>1999-01-01</td>\n",
       "      <td>Winter</td>\n",
       "    </tr>\n",
       "    <tr>\n",
       "      <th>3</th>\n",
       "      <td>clay</td>\n",
       "      <td>1999-01-04</td>\n",
       "      <td>Winter</td>\n",
       "    </tr>\n",
       "    <tr>\n",
       "      <th>4</th>\n",
       "      <td>clay, gravel</td>\n",
       "      <td>1999-01-04</td>\n",
       "      <td>Winter</td>\n",
       "    </tr>\n",
       "    <tr>\n",
       "      <th>...</th>\n",
       "      <td>...</td>\n",
       "      <td>...</td>\n",
       "      <td>...</td>\n",
       "    </tr>\n",
       "    <tr>\n",
       "      <th>3399</th>\n",
       "      <td>sand/gravel</td>\n",
       "      <td>2019-05-12</td>\n",
       "      <td>Spring</td>\n",
       "    </tr>\n",
       "    <tr>\n",
       "      <th>3400</th>\n",
       "      <td>sand</td>\n",
       "      <td>2019-05-14</td>\n",
       "      <td>Spring</td>\n",
       "    </tr>\n",
       "    <tr>\n",
       "      <th>3401</th>\n",
       "      <td>clay</td>\n",
       "      <td>2019-05-16</td>\n",
       "      <td>Spring</td>\n",
       "    </tr>\n",
       "    <tr>\n",
       "      <th>3402</th>\n",
       "      <td>stone</td>\n",
       "      <td>2019-05-18</td>\n",
       "      <td>Spring</td>\n",
       "    </tr>\n",
       "    <tr>\n",
       "      <th>3403</th>\n",
       "      <td>sand</td>\n",
       "      <td>2019-07-22</td>\n",
       "      <td>Summer</td>\n",
       "    </tr>\n",
       "  </tbody>\n",
       "</table>\n",
       "<p>3404 rows × 3 columns</p>\n",
       "</div>"
      ],
      "text/plain": [
       "               soil_type        date  season\n",
       "0             sand, clay  1997-10-08    Fall\n",
       "1                   clay  1999-01-01  Winter\n",
       "2     sand, clay, gravel  1999-01-01  Winter\n",
       "3                   clay  1999-01-04  Winter\n",
       "4           clay, gravel  1999-01-04  Winter\n",
       "...                  ...         ...     ...\n",
       "3399         sand/gravel  2019-05-12  Spring\n",
       "3400                sand  2019-05-14  Spring\n",
       "3401                clay  2019-05-16  Spring\n",
       "3402               stone  2019-05-18  Spring\n",
       "3403                sand  2019-07-22  Summer\n",
       "\n",
       "[3404 rows x 3 columns]"
      ]
     },
     "execution_count": 81,
     "metadata": {},
     "output_type": "execute_result"
    }
   ],
   "source": [
    "df"
   ]
  },
  {
   "cell_type": "code",
   "execution_count": 50,
   "metadata": {},
   "outputs": [],
   "source": [
    "soil_dict = {\"clay\":0,\"sand\":0,\"rock/stone\":0,\"mud/dirt\":0,\"gravel\":0}\n",
    "for i in range(len(df)):\n",
    "    if \"clay\" in df.loc[i,\"soil_type\"]:\n",
    "        soil_dict[\"clay\"]+=1\n",
    "    if \"sand\" in df.loc[i,\"soil_type\"]:\n",
    "        soil_dict[\"sand\"]+=1\n",
    "    if \"rock\" in df.loc[i,\"soil_type\"] or \"stone\" in df.loc[i,\"soil_type\"]:\n",
    "        soil_dict[\"rock/stone\"]+=1\n",
    "    if \"mud\" in df.loc[i,\"soil_type\"] or \"dirt\" in df.loc[i,\"soil_type\"]:\n",
    "        soil_dict[\"mud/dirt\"]+=1\n",
    "    if \"gravel\" in df.loc[i,\"soil_type\"]:\n",
    "        soil_dict[\"gravel\"]+=1"
   ]
  },
  {
   "cell_type": "code",
   "execution_count": 51,
   "metadata": {},
   "outputs": [
    {
     "data": {
      "text/plain": [
       "{'clay': 2513, 'sand': 984, 'rock/stone': 626, 'mud/dirt': 128, 'gravel': 311}"
      ]
     },
     "execution_count": 51,
     "metadata": {},
     "output_type": "execute_result"
    }
   ],
   "source": [
    "soil_dict"
   ]
  },
  {
   "cell_type": "code",
   "execution_count": 54,
   "metadata": {},
   "outputs": [
    {
     "data": {
      "text/html": [
       "<div>\n",
       "<style scoped>\n",
       "    .dataframe tbody tr th:only-of-type {\n",
       "        vertical-align: middle;\n",
       "    }\n",
       "\n",
       "    .dataframe tbody tr th {\n",
       "        vertical-align: top;\n",
       "    }\n",
       "\n",
       "    .dataframe thead th {\n",
       "        text-align: right;\n",
       "    }\n",
       "</style>\n",
       "<table border=\"1\" class=\"dataframe\">\n",
       "  <thead>\n",
       "    <tr style=\"text-align: right;\">\n",
       "      <th></th>\n",
       "      <th>0</th>\n",
       "    </tr>\n",
       "  </thead>\n",
       "  <tbody>\n",
       "    <tr>\n",
       "      <th>clay</th>\n",
       "      <td>2513</td>\n",
       "    </tr>\n",
       "    <tr>\n",
       "      <th>sand</th>\n",
       "      <td>984</td>\n",
       "    </tr>\n",
       "    <tr>\n",
       "      <th>rock/stone</th>\n",
       "      <td>626</td>\n",
       "    </tr>\n",
       "    <tr>\n",
       "      <th>mud/dirt</th>\n",
       "      <td>128</td>\n",
       "    </tr>\n",
       "    <tr>\n",
       "      <th>gravel</th>\n",
       "      <td>311</td>\n",
       "    </tr>\n",
       "  </tbody>\n",
       "</table>\n",
       "</div>"
      ],
      "text/plain": [
       "               0\n",
       "clay        2513\n",
       "sand         984\n",
       "rock/stone   626\n",
       "mud/dirt     128\n",
       "gravel       311"
      ]
     },
     "execution_count": 54,
     "metadata": {},
     "output_type": "execute_result"
    }
   ],
   "source": [
    "pd.DataFrame.from_dict(soil_dict,orient = \"index\")"
   ]
  },
  {
   "cell_type": "code",
   "execution_count": 55,
   "metadata": {},
   "outputs": [],
   "source": [
    "soil_dict = {\"clay\":{\"Spring\":0,\"Summer\":0,\"Fall\":0,\"Winter\":0},\n",
    "             \"sand\":{\"Spring\":0,\"Summer\":0,\"Fall\":0,\"Winter\":0},\n",
    "             \"rock/stone\":{\"Spring\":0,\"Summer\":0,\"Fall\":0,\"Winter\":0},\n",
    "             \"mud/dirt\":{\"Spring\":0,\"Summer\":0,\"Fall\":0,\"Winter\":0},\n",
    "             \"gravel\":{\"Spring\":0,\"Summer\":0,\"Fall\":0,\"Winter\":0}}\n",
    "for i in range(len(df)):\n",
    "    if \"clay\" in df.loc[i,\"soil_type\"]:\n",
    "        soil_dict[\"clay\"][df.loc[i,\"season\"]]+=1\n",
    "    if \"sand\" in df.loc[i,\"soil_type\"]:\n",
    "        soil_dict[\"sand\"][df.loc[i,\"season\"]]+=1\n",
    "    if \"rock\" in df.loc[i,\"soil_type\"] or \"stone\" in df.loc[i,\"soil_type\"]:\n",
    "        soil_dict[\"rock/stone\"][df.loc[i,\"season\"]]+=1\n",
    "    if \"mud\" in df.loc[i,\"soil_type\"] or \"dirt\" in df.loc[i,\"soil_type\"]:\n",
    "        soil_dict[\"mud/dirt\"][df.loc[i,\"season\"]]+=1\n",
    "    if \"gravel\" in df.loc[i,\"soil_type\"]:\n",
    "        soil_dict[\"gravel\"][df.loc[i,\"season\"]]+=1"
   ]
  },
  {
   "cell_type": "code",
   "execution_count": 56,
   "metadata": {},
   "outputs": [
    {
     "data": {
      "text/plain": [
       "{'clay': {'Spring': 320, 'Summer': 228, 'Fall': 305, 'Winter': 1660},\n",
       " 'sand': {'Spring': 159, 'Summer': 124, 'Fall': 165, 'Winter': 536},\n",
       " 'rock/stone': {'Spring': 69, 'Summer': 46, 'Fall': 71, 'Winter': 440},\n",
       " 'mud/dirt': {'Spring': 10, 'Summer': 12, 'Fall': 24, 'Winter': 82},\n",
       " 'gravel': {'Spring': 66, 'Summer': 70, 'Fall': 67, 'Winter': 108}}"
      ]
     },
     "execution_count": 56,
     "metadata": {},
     "output_type": "execute_result"
    }
   ],
   "source": [
    "soil_dict"
   ]
  },
  {
   "cell_type": "code",
   "execution_count": 69,
   "metadata": {},
   "outputs": [
    {
     "data": {
      "text/html": [
       "<div>\n",
       "<style scoped>\n",
       "    .dataframe tbody tr th:only-of-type {\n",
       "        vertical-align: middle;\n",
       "    }\n",
       "\n",
       "    .dataframe tbody tr th {\n",
       "        vertical-align: top;\n",
       "    }\n",
       "\n",
       "    .dataframe thead th {\n",
       "        text-align: right;\n",
       "    }\n",
       "</style>\n",
       "<table border=\"1\" class=\"dataframe\">\n",
       "  <thead>\n",
       "    <tr style=\"text-align: right;\">\n",
       "      <th></th>\n",
       "      <th>Spring</th>\n",
       "      <th>Summer</th>\n",
       "      <th>Fall</th>\n",
       "      <th>Winter</th>\n",
       "      <th>sum</th>\n",
       "      <th>Spring_p</th>\n",
       "      <th>Summer_p</th>\n",
       "      <th>Fall_p</th>\n",
       "      <th>Winter_p</th>\n",
       "    </tr>\n",
       "  </thead>\n",
       "  <tbody>\n",
       "    <tr>\n",
       "      <th>clay</th>\n",
       "      <td>320</td>\n",
       "      <td>228</td>\n",
       "      <td>305</td>\n",
       "      <td>1660</td>\n",
       "      <td>2513</td>\n",
       "      <td>12.733784</td>\n",
       "      <td>9.072821</td>\n",
       "      <td>12.136888</td>\n",
       "      <td>66.056506</td>\n",
       "    </tr>\n",
       "    <tr>\n",
       "      <th>sand</th>\n",
       "      <td>159</td>\n",
       "      <td>124</td>\n",
       "      <td>165</td>\n",
       "      <td>536</td>\n",
       "      <td>984</td>\n",
       "      <td>16.158537</td>\n",
       "      <td>12.601626</td>\n",
       "      <td>16.768293</td>\n",
       "      <td>54.471545</td>\n",
       "    </tr>\n",
       "    <tr>\n",
       "      <th>rock/stone</th>\n",
       "      <td>69</td>\n",
       "      <td>46</td>\n",
       "      <td>71</td>\n",
       "      <td>440</td>\n",
       "      <td>626</td>\n",
       "      <td>11.022364</td>\n",
       "      <td>7.348243</td>\n",
       "      <td>11.341853</td>\n",
       "      <td>70.287540</td>\n",
       "    </tr>\n",
       "    <tr>\n",
       "      <th>gravel</th>\n",
       "      <td>66</td>\n",
       "      <td>70</td>\n",
       "      <td>67</td>\n",
       "      <td>108</td>\n",
       "      <td>311</td>\n",
       "      <td>21.221865</td>\n",
       "      <td>22.508039</td>\n",
       "      <td>21.543408</td>\n",
       "      <td>34.726688</td>\n",
       "    </tr>\n",
       "    <tr>\n",
       "      <th>mud/dirt</th>\n",
       "      <td>10</td>\n",
       "      <td>12</td>\n",
       "      <td>24</td>\n",
       "      <td>82</td>\n",
       "      <td>128</td>\n",
       "      <td>7.812500</td>\n",
       "      <td>9.375000</td>\n",
       "      <td>18.750000</td>\n",
       "      <td>64.062500</td>\n",
       "    </tr>\n",
       "  </tbody>\n",
       "</table>\n",
       "</div>"
      ],
      "text/plain": [
       "            Spring  Summer  Fall  Winter   sum   Spring_p   Summer_p  \\\n",
       "clay           320     228   305    1660  2513  12.733784   9.072821   \n",
       "sand           159     124   165     536   984  16.158537  12.601626   \n",
       "rock/stone      69      46    71     440   626  11.022364   7.348243   \n",
       "gravel          66      70    67     108   311  21.221865  22.508039   \n",
       "mud/dirt        10      12    24      82   128   7.812500   9.375000   \n",
       "\n",
       "               Fall_p   Winter_p  \n",
       "clay        12.136888  66.056506  \n",
       "sand        16.768293  54.471545  \n",
       "rock/stone  11.341853  70.287540  \n",
       "gravel      21.543408  34.726688  \n",
       "mud/dirt    18.750000  64.062500  "
      ]
     },
     "execution_count": 69,
     "metadata": {},
     "output_type": "execute_result"
    }
   ],
   "source": [
    "df = pd.DataFrame.from_dict(soil_dict,orient = \"index\")\n",
    "df[\"sum\"] = df[\"Spring\"]+df[\"Summer\"]+df[\"Fall\"]+df[\"Winter\"]\n",
    "df = df.sort_values(by = \"sum\",ascending = False)\n",
    "df[\"Spring_p\"] = df[\"Spring\"]/df[\"sum\"]*100\n",
    "df[\"Summer_p\"] = df[\"Summer\"]/df[\"sum\"]*100\n",
    "df[\"Fall_p\"] = df[\"Fall\"]/df[\"sum\"]*100\n",
    "df[\"Winter_p\"] = df[\"Winter\"]/df[\"sum\"]*100\n",
    "df"
   ]
  },
  {
   "cell_type": "code",
   "execution_count": 76,
   "metadata": {},
   "outputs": [
    {
     "data": {
      "text/html": [
       "<div>\n",
       "<style scoped>\n",
       "    .dataframe tbody tr th:only-of-type {\n",
       "        vertical-align: middle;\n",
       "    }\n",
       "\n",
       "    .dataframe tbody tr th {\n",
       "        vertical-align: top;\n",
       "    }\n",
       "\n",
       "    .dataframe thead th {\n",
       "        text-align: right;\n",
       "    }\n",
       "</style>\n",
       "<table border=\"1\" class=\"dataframe\">\n",
       "  <thead>\n",
       "    <tr style=\"text-align: right;\">\n",
       "      <th></th>\n",
       "      <th>Winter_p</th>\n",
       "      <th>Spring_p</th>\n",
       "      <th>Summer_p</th>\n",
       "      <th>Fall_p</th>\n",
       "    </tr>\n",
       "  </thead>\n",
       "  <tbody>\n",
       "    <tr>\n",
       "      <th>clay</th>\n",
       "      <td>66.056506</td>\n",
       "      <td>12.733784</td>\n",
       "      <td>9.072821</td>\n",
       "      <td>12.136888</td>\n",
       "    </tr>\n",
       "    <tr>\n",
       "      <th>sand</th>\n",
       "      <td>54.471545</td>\n",
       "      <td>16.158537</td>\n",
       "      <td>12.601626</td>\n",
       "      <td>16.768293</td>\n",
       "    </tr>\n",
       "    <tr>\n",
       "      <th>rock/stone</th>\n",
       "      <td>70.287540</td>\n",
       "      <td>11.022364</td>\n",
       "      <td>7.348243</td>\n",
       "      <td>11.341853</td>\n",
       "    </tr>\n",
       "    <tr>\n",
       "      <th>gravel</th>\n",
       "      <td>34.726688</td>\n",
       "      <td>21.221865</td>\n",
       "      <td>22.508039</td>\n",
       "      <td>21.543408</td>\n",
       "    </tr>\n",
       "    <tr>\n",
       "      <th>mud/dirt</th>\n",
       "      <td>64.062500</td>\n",
       "      <td>7.812500</td>\n",
       "      <td>9.375000</td>\n",
       "      <td>18.750000</td>\n",
       "    </tr>\n",
       "  </tbody>\n",
       "</table>\n",
       "</div>"
      ],
      "text/plain": [
       "             Winter_p   Spring_p   Summer_p     Fall_p\n",
       "clay        66.056506  12.733784   9.072821  12.136888\n",
       "sand        54.471545  16.158537  12.601626  16.768293\n",
       "rock/stone  70.287540  11.022364   7.348243  11.341853\n",
       "gravel      34.726688  21.221865  22.508039  21.543408\n",
       "mud/dirt    64.062500   7.812500   9.375000  18.750000"
      ]
     },
     "execution_count": 76,
     "metadata": {},
     "output_type": "execute_result"
    }
   ],
   "source": [
    "new_df=df[[\"Winter_p\",\"Spring_p\",\"Summer_p\",\"Fall_p\"]]\n",
    "new_df"
   ]
  },
  {
   "cell_type": "code",
   "execution_count": 77,
   "metadata": {},
   "outputs": [
    {
     "data": {
      "text/plain": [
       "<matplotlib.axes._subplots.AxesSubplot at 0x7ff9864684e0>"
      ]
     },
     "execution_count": 77,
     "metadata": {},
     "output_type": "execute_result"
    },
    {
     "data": {
      "image/png": "[encoded data removed]",
      "text/plain": [
       "<Figure size 432x288 with 1 Axes>"
      ]
     },
     "metadata": {
      "needs_background": "light"
     },
     "output_type": "display_data"
    }
   ],
   "source": [
    "new_df.plot.bar(stacked = True)"
   ]
  },
  {
   "cell_type": "code",
   "execution_count": 118,
   "metadata": {},
   "outputs": [],
   "source": [
    "soil_dict = {\"Spring\":{\"clay\":0,\"sand\":0,\"rock/stone\":0,\"mud/dirt\":0,\"gravel\":0},\n",
    "            \"Summer\":{\"clay\":0,\"sand\":0,\"rock/stone\":0,\"mud/dirt\":0,\"gravel\":0},\n",
    "            \"Fall\":{\"clay\":0,\"sand\":0,\"rock/stone\":0,\"mud/dirt\":0,\"gravel\":0},\n",
    "            \"Winter\":{\"clay\":0,\"sand\":0,\"rock/stone\":0,\"mud/dirt\":0,\"gravel\":0},}\n",
    "for i in range(len(df)):\n",
    "    if \"clay\" in df.loc[i,\"soil_type\"]:\n",
    "        soil_dict[df.loc[i,\"season\"]][\"clay\"]+=1\n",
    "    if \"sand\" in df.loc[i,\"soil_type\"]:\n",
    "        soil_dict[df.loc[i,\"season\"]][\"sand\"]+=1\n",
    "    if \"rock\" in df.loc[i,\"soil_type\"] or \"stone\" in df.loc[i,\"soil_type\"]:\n",
    "        soil_dict[df.loc[i,\"season\"]][\"rock/stone\"]+=1\n",
    "    if \"mud\" in df.loc[i,\"soil_type\"] or \"dirt\" in df.loc[i,\"soil_type\"]:\n",
    "        soil_dict[df.loc[i,\"season\"]][\"mud/dirt\"]+=1\n",
    "    if \"gravel\" in df.loc[i,\"soil_type\"]:\n",
    "        soil_dict[df.loc[i,\"season\"]][\"gravel\"]+=1"
   ]
  },
  {
   "cell_type": "code",
   "execution_count": 119,
   "metadata": {},
   "outputs": [
    {
     "data": {
      "text/plain": [
       "{'Spring': {'clay': 320,\n",
       "  'sand': 159,\n",
       "  'rock/stone': 69,\n",
       "  'mud/dirt': 10,\n",
       "  'gravel': 66},\n",
       " 'Summer': {'clay': 228,\n",
       "  'sand': 124,\n",
       "  'rock/stone': 46,\n",
       "  'mud/dirt': 12,\n",
       "  'gravel': 70},\n",
       " 'Fall': {'clay': 305,\n",
       "  'sand': 165,\n",
       "  'rock/stone': 71,\n",
       "  'mud/dirt': 24,\n",
       "  'gravel': 67},\n",
       " 'Winter': {'clay': 1660,\n",
       "  'sand': 536,\n",
       "  'rock/stone': 440,\n",
       "  'mud/dirt': 82,\n",
       "  'gravel': 108}}"
      ]
     },
     "execution_count": 119,
     "metadata": {},
     "output_type": "execute_result"
    }
   ],
   "source": [
    "soil_dict"
   ]
  },
  {
   "cell_type": "code",
   "execution_count": 120,
   "metadata": {},
   "outputs": [
    {
     "data": {
      "text/html": [
       "<div>\n",
       "<style scoped>\n",
       "    .dataframe tbody tr th:only-of-type {\n",
       "        vertical-align: middle;\n",
       "    }\n",
       "\n",
       "    .dataframe tbody tr th {\n",
       "        vertical-align: top;\n",
       "    }\n",
       "\n",
       "    .dataframe thead th {\n",
       "        text-align: right;\n",
       "    }\n",
       "</style>\n",
       "<table border=\"1\" class=\"dataframe\">\n",
       "  <thead>\n",
       "    <tr style=\"text-align: right;\">\n",
       "      <th></th>\n",
       "      <th>clay</th>\n",
       "      <th>sand</th>\n",
       "      <th>rock/stone</th>\n",
       "      <th>mud/dirt</th>\n",
       "      <th>gravel</th>\n",
       "      <th>sum</th>\n",
       "      <th>clay_p</th>\n",
       "      <th>sand_p</th>\n",
       "      <th>rock/stone_p</th>\n",
       "      <th>gravel_p</th>\n",
       "      <th>mud/dirt_p</th>\n",
       "    </tr>\n",
       "  </thead>\n",
       "  <tbody>\n",
       "    <tr>\n",
       "      <th>Winter</th>\n",
       "      <td>1660</td>\n",
       "      <td>536</td>\n",
       "      <td>440</td>\n",
       "      <td>82</td>\n",
       "      <td>108</td>\n",
       "      <td>2826</td>\n",
       "      <td>58.740269</td>\n",
       "      <td>18.966737</td>\n",
       "      <td>15.569710</td>\n",
       "      <td>3.821656</td>\n",
       "      <td>2.901628</td>\n",
       "    </tr>\n",
       "    <tr>\n",
       "      <th>Fall</th>\n",
       "      <td>305</td>\n",
       "      <td>165</td>\n",
       "      <td>71</td>\n",
       "      <td>24</td>\n",
       "      <td>67</td>\n",
       "      <td>632</td>\n",
       "      <td>48.259494</td>\n",
       "      <td>26.107595</td>\n",
       "      <td>11.234177</td>\n",
       "      <td>10.601266</td>\n",
       "      <td>3.797468</td>\n",
       "    </tr>\n",
       "    <tr>\n",
       "      <th>Spring</th>\n",
       "      <td>320</td>\n",
       "      <td>159</td>\n",
       "      <td>69</td>\n",
       "      <td>10</td>\n",
       "      <td>66</td>\n",
       "      <td>624</td>\n",
       "      <td>51.282051</td>\n",
       "      <td>25.480769</td>\n",
       "      <td>11.057692</td>\n",
       "      <td>10.576923</td>\n",
       "      <td>1.602564</td>\n",
       "    </tr>\n",
       "    <tr>\n",
       "      <th>Summer</th>\n",
       "      <td>228</td>\n",
       "      <td>124</td>\n",
       "      <td>46</td>\n",
       "      <td>12</td>\n",
       "      <td>70</td>\n",
       "      <td>480</td>\n",
       "      <td>47.500000</td>\n",
       "      <td>25.833333</td>\n",
       "      <td>9.583333</td>\n",
       "      <td>14.583333</td>\n",
       "      <td>2.500000</td>\n",
       "    </tr>\n",
       "  </tbody>\n",
       "</table>\n",
       "</div>"
      ],
      "text/plain": [
       "        clay  sand  rock/stone  mud/dirt  gravel   sum     clay_p     sand_p  \\\n",
       "Winter  1660   536         440        82     108  2826  58.740269  18.966737   \n",
       "Fall     305   165          71        24      67   632  48.259494  26.107595   \n",
       "Spring   320   159          69        10      66   624  51.282051  25.480769   \n",
       "Summer   228   124          46        12      70   480  47.500000  25.833333   \n",
       "\n",
       "        rock/stone_p   gravel_p  mud/dirt_p  \n",
       "Winter     15.569710   3.821656    2.901628  \n",
       "Fall       11.234177  10.601266    3.797468  \n",
       "Spring     11.057692  10.576923    1.602564  \n",
       "Summer      9.583333  14.583333    2.500000  "
      ]
     },
     "execution_count": 120,
     "metadata": {},
     "output_type": "execute_result"
    }
   ],
   "source": [
    "df = pd.DataFrame.from_dict(soil_dict,orient = \"index\")\n",
    "df[\"sum\"] = df[\"clay\"]+df[\"sand\"]+df[\"rock/stone\"]+df[\"mud/dirt\"]+df[\"gravel\"]\n",
    "df = df.sort_values(by = \"sum\",ascending = False)\n",
    "df[\"clay_p\"] = df[\"clay\"]/df[\"sum\"]*100\n",
    "df[\"sand_p\"] = df[\"sand\"]/df[\"sum\"]*100\n",
    "df[\"rock/stone_p\"] = df[\"rock/stone\"]/df[\"sum\"]*100\n",
    "df[\"gravel_p\"] = df[\"gravel\"]/df[\"sum\"]*100\n",
    "df[\"mud/dirt_p\"] = df[\"mud/dirt\"]/df[\"sum\"]*100\n",
    "df"
   ]
  },
  {
   "cell_type": "code",
   "execution_count": 121,
   "metadata": {},
   "outputs": [
    {
     "data": {
      "text/html": [
       "<div>\n",
       "<style scoped>\n",
       "    .dataframe tbody tr th:only-of-type {\n",
       "        vertical-align: middle;\n",
       "    }\n",
       "\n",
       "    .dataframe tbody tr th {\n",
       "        vertical-align: top;\n",
       "    }\n",
       "\n",
       "    .dataframe thead th {\n",
       "        text-align: right;\n",
       "    }\n",
       "</style>\n",
       "<table border=\"1\" class=\"dataframe\">\n",
       "  <thead>\n",
       "    <tr style=\"text-align: right;\">\n",
       "      <th></th>\n",
       "      <th>clay_p</th>\n",
       "      <th>sand_p</th>\n",
       "      <th>rock/stone_p</th>\n",
       "      <th>gravel_p</th>\n",
       "      <th>mud/dirt_p</th>\n",
       "    </tr>\n",
       "  </thead>\n",
       "  <tbody>\n",
       "    <tr>\n",
       "      <th>Winter</th>\n",
       "      <td>58.740269</td>\n",
       "      <td>18.966737</td>\n",
       "      <td>15.569710</td>\n",
       "      <td>3.821656</td>\n",
       "      <td>2.901628</td>\n",
       "    </tr>\n",
       "    <tr>\n",
       "      <th>Fall</th>\n",
       "      <td>48.259494</td>\n",
       "      <td>26.107595</td>\n",
       "      <td>11.234177</td>\n",
       "      <td>10.601266</td>\n",
       "      <td>3.797468</td>\n",
       "    </tr>\n",
       "    <tr>\n",
       "      <th>Spring</th>\n",
       "      <td>51.282051</td>\n",
       "      <td>25.480769</td>\n",
       "      <td>11.057692</td>\n",
       "      <td>10.576923</td>\n",
       "      <td>1.602564</td>\n",
       "    </tr>\n",
       "    <tr>\n",
       "      <th>Summer</th>\n",
       "      <td>47.500000</td>\n",
       "      <td>25.833333</td>\n",
       "      <td>9.583333</td>\n",
       "      <td>14.583333</td>\n",
       "      <td>2.500000</td>\n",
       "    </tr>\n",
       "  </tbody>\n",
       "</table>\n",
       "</div>"
      ],
      "text/plain": [
       "           clay_p     sand_p  rock/stone_p   gravel_p  mud/dirt_p\n",
       "Winter  58.740269  18.966737     15.569710   3.821656    2.901628\n",
       "Fall    48.259494  26.107595     11.234177  10.601266    3.797468\n",
       "Spring  51.282051  25.480769     11.057692  10.576923    1.602564\n",
       "Summer  47.500000  25.833333      9.583333  14.583333    2.500000"
      ]
     },
     "execution_count": 121,
     "metadata": {},
     "output_type": "execute_result"
    }
   ],
   "source": [
    "new_df=df[[\"clay_p\",\"sand_p\",\"rock/stone_p\",\"gravel_p\",\"mud/dirt_p\"]]\n",
    "new_df"
   ]
  },
  {
   "cell_type": "code",
   "execution_count": 123,
   "metadata": {},
   "outputs": [
    {
     "data": {
      "image/png": "[encoded data removed]",
      "text/plain": [
       "<Figure size 576x360 with 1 Axes>"
      ]
     },
     "metadata": {
      "needs_background": "light"
     },
     "output_type": "display_data"
    }
   ],
   "source": [
    "fig,ax = plt.subplots(figsize = (8,5))\n",
    "new_df.plot.bar(stacked = True,ax=ax)\n",
    "ax.spines[\"top\"].set_visible(False)\n",
    "ax.spines[\"right\"].set_visible(False)\n",
    "plt.xticks(rotation = 0)\n",
    "ax.set_xlabel(\"Season\",fontsize=15)\n",
    "ax.set_ylabel(\"Percentage of Breaks by Soil Type\",fontsize = 15)\n",
    "ax.legend([\"Clay\",\"Sand\",\"Rock/Stone\",\"Gravel\",\"Mud/Dirt\"],loc = \"lower center\")\n",
    "plt.savefig(\"Percentage of Breaks by Season.pdf\")"
   ]
  },
  {
   "cell_type": "code",
   "execution_count": null,
   "metadata": {},
   "outputs": [],
   "source": []
  }
 ],
 "metadata": {
  "kernelspec": {
   "display_name": "Python 3",
   "language": "python",
   "name": "python3"
  },
  "language_info": {
   "codemirror_mode": {
    "name": "ipython",
    "version": 3
   },
   "file_extension": ".py",
   "mimetype": "text/x-python",
   "name": "python",
   "nbconvert_exporter": "python",
   "pygments_lexer": "ipython3",
   "version": "3.6.9"
  }
 },
 "nbformat": 4,
 "nbformat_minor": 4
}
