{
 "cells": [
  {
   "cell_type": "code",
   "execution_count": 1,
   "metadata": {},
   "outputs": [
    {
     "name": "stderr",
     "output_type": "stream",
     "text": [
      "/home/gautam/.local/lib/python3.6/site-packages/geopandas/_compat.py:110: UserWarning: The Shapely GEOS version (3.8.0-CAPI-1.13.1 ) is incompatible with the GEOS version PyGEOS was compiled with (3.9.0-CAPI-1.16.2). Conversions between both will be slow.\n",
      "  shapely_geos_version, geos_capi_version_string\n"
     ]
    }
   ],
   "source": [
    "import csv\n",
    "import pandas as pd\n",
    "import requests\n",
    "import os\n",
    "from collections import defaultdict\n",
    "from datetime import timedelta\n",
    "import sklearn.linear_model\n",
    "from sklearn.linear_model import LogisticRegression\n",
    "from sklearn.decomposition import PCA\n",
    "from sklearn.pipeline import Pipeline\n",
    "from sklearn.impute import SimpleImputer\n",
    "from sklearn.preprocessing import StandardScaler\n",
    "from sklearn.metrics import confusion_matrix, precision_score, recall_score\n",
    "from sklearn.model_selection import train_test_split\n",
    "import matplotlib.pyplot as plt\n",
    "from mpl_toolkits.axes_grid1 import make_axes_locatable\n",
    "import geopandas\n",
    "import matplotlib"
   ]
  },
  {
   "cell_type": "code",
   "execution_count": 2,
   "metadata": {},
   "outputs": [],
   "source": [
    "wm = geopandas.read_file(\"zip://../dataset/WaterMains.zip\")"
   ]
  },
  {
   "cell_type": "code",
   "execution_count": 5,
   "metadata": {},
   "outputs": [],
   "source": [
    "mst = geopandas.read_file(\"zip://../dataset/Hi.zip\")"
   ]
  },
  {
   "cell_type": "code",
   "execution_count": 6,
   "metadata": {},
   "outputs": [
    {
     "name": "stderr",
     "output_type": "stream",
     "text": [
      "/home/gautam/.local/lib/python3.6/site-packages/geopandas/geodataframe.py:1322: SettingWithCopyWarning: \n",
      "A value is trying to be set on a copy of a slice from a DataFrame.\n",
      "Try using .loc[row_indexer,col_indexer] = value instead\n",
      "\n",
      "See the caveats in the documentation: https://pandas.pydata.org/pandas-docs/stable/user_guide/indexing.html#returning-a-view-versus-a-copy\n",
      "  super(GeoDataFrame, self).__setitem__(key, value)\n"
     ]
    }
   ],
   "source": [
    "df=wm[[\"geometry\",\"Material\",\"InstallYea\"]]\n",
    "df[\"index\"]=df.index\n",
    "df=df[df[\"InstallYea\"]>1800.0]\n"
   ]
  },
  {
   "cell_type": "code",
   "execution_count": 7,
   "metadata": {},
   "outputs": [
    {
     "name": "stderr",
     "output_type": "stream",
     "text": [
      "/home/gautam/.local/lib/python3.6/site-packages/ipykernel_launcher.py:1: UserWarning: CRS mismatch between the CRS of left geometries and the CRS of right geometries.\n",
      "Use `to_crs()` to reproject one of the input geometries to match the CRS of the other.\n",
      "\n",
      "Left CRS: None\n",
      "Right CRS: PROJCS[\"NAD_1983_HARN_WISCRS_Dane_County_Feet\",GEO ...\n",
      "\n",
      "  \"\"\"Entry point for launching an IPython kernel.\n"
     ]
    }
   ],
   "source": [
    "m = geopandas.sjoin(mst, df, how=\"inner\", op='intersects')\n",
    "m=m[[\"geometry\",\"Material\",\"InstallYea\"]]\n",
    "m[\"index\"]=m.index\n",
    "m=m.sort_values(['index','InstallYea'])\n"
   ]
  },
  {
   "cell_type": "code",
   "execution_count": 8,
   "metadata": {},
   "outputs": [],
   "source": [
    "df=m.groupby(by=['index']).agg({'InstallYea': 'mean','geometry':'first','Material':'last'}).reset_index()\n",
    "df=geopandas.GeoDataFrame(df)\n"
   ]
  },
  {
   "cell_type": "code",
   "execution_count": 9,
   "metadata": {},
   "outputs": [
    {
     "name": "stderr",
     "output_type": "stream",
     "text": [
      "No handles with labels found to put in legend.\n"
     ]
    },
    {
     "data": {
      "image/png": "[encoded data removed]",
      "text/plain": [
       "<Figure size 1080x1080 with 4 Axes>"
      ]
     },
     "metadata": {
      "needs_background": "light"
     },
     "output_type": "display_data"
    }
   ],
   "source": [
    "from matplotlib import colors\n",
    "\n",
    "matplotlib.rcParams.update({'font.size': 14})\n",
    "fig = plt.figure(figsize=(15,15))\n",
    "ax = fig.add_subplot(421)\n",
    "bx = fig.add_subplot(422)\n",
    "cx = fig.add_subplot(121)\n",
    "dx = fig.add_subplot(122)\n",
    "\n",
    "df[df[\"InstallYea\"]<1980].plot(column=\"Material\",categorical=True, legend=True, ax=ax)\n",
    "df[df[\"InstallYea\"]<1990].plot(column=\"Material\",ax=bx)\n",
    "df[df[\"InstallYea\"]<2000].plot(column=\"Material\",ax=cx)\n",
    "df.plot(column=\"Material\",ax=dx,label=\"Current\")\n",
    "\n",
    "ax.axis(\"off\")\n",
    "ax.set_title(\"<1980\")\n",
    "bx.axis(\"off\")\n",
    "bx.set_title(\"<1990\")\n",
    "cx.axis(\"off\")\n",
    "cx.set_title(\"<2000\")\n",
    "dx.axis(\"off\")\n",
    "dx.set_title(\"Current\")\n",
    "\n",
    "ax.legend(loc=2)\n",
    "\n",
    "\n",
    "\n",
    "plt.savefig('decademap.pdf',format='pdf')"
   ]
  },
  {
   "cell_type": "code",
   "execution_count": 10,
   "metadata": {},
   "outputs": [
    {
     "data": {
      "text/plain": [
       "array(['DI', 'CI', 'COPPER', 'SPUN', 'CIPP', 'HDPE', 'PVC', 'SAND'],\n",
       "      dtype=object)"
      ]
     },
     "execution_count": 10,
     "metadata": {},
     "output_type": "execute_result"
    }
   ],
   "source": [
    "df[\"Material\"].unique()"
   ]
  },
  {
   "cell_type": "code",
   "execution_count": 11,
   "metadata": {},
   "outputs": [
    {
     "data": {
      "text/plain": [
       "{'DI': 'purple',\n",
       " 'CI': 'black',\n",
       " 'SPUN': 'blue',\n",
       " 'CIPP': 'green',\n",
       " 'PVC': 'red',\n",
       " 'HDPE': 'yellow',\n",
       " 'SAND': 'brown',\n",
       " 'COPPER': 'pink'}"
      ]
     },
     "execution_count": 11,
     "metadata": {},
     "output_type": "execute_result"
    }
   ],
   "source": [
    "roadPalette = {'DI': 'purple',\n",
    "               'CI': 'black',\n",
    "               'SPUN': 'blue',\n",
    "               'CIPP': 'green',\n",
    "              'PVC':'red',\n",
    "               'HDPE':'yellow',\n",
    "              'SAND':'brown',\n",
    "              'COPPER':'pink'}\n",
    "roadPalette"
   ]
  },
  {
   "cell_type": "code",
   "execution_count": 12,
   "metadata": {},
   "outputs": [
    {
     "name": "stderr",
     "output_type": "stream",
     "text": [
      "/home/gautam/.local/lib/python3.6/site-packages/geopandas/plotting.py:681: UserWarning: The GeoDataFrame you are attempting to plot is empty. Nothing has been displayed.\n",
      "  UserWarning,\n",
      "/home/gautam/.local/lib/python3.6/site-packages/geopandas/plotting.py:681: UserWarning: The GeoDataFrame you are attempting to plot is empty. Nothing has been displayed.\n",
      "  UserWarning,\n",
      "No handles with labels found to put in legend.\n"
     ]
    },
    {
     "data": {
      "image/png": "[encoded data removed]",
      "text/plain": [
       "<Figure size 1080x1080 with 4 Axes>"
      ]
     },
     "metadata": {
      "needs_background": "light"
     },
     "output_type": "display_data"
    }
   ],
   "source": [
    "matplotlib.rcParams.update({'font.size': 14})\n",
    "fig = plt.figure(figsize=(15,15))\n",
    "ax = fig.add_subplot(421)\n",
    "bx = fig.add_subplot(422)\n",
    "cx = fig.add_subplot(121)\n",
    "dx = fig.add_subplot(122)\n",
    "\n",
    "# Loop through each attribute type and plot it using the colors assigned in the dictionary\n",
    "for ctype, data in df.groupby('Material'):\n",
    "    \n",
    "    # Define the color for each group using the dictionary\n",
    "    color = roadPalette[ctype]\n",
    "    data[data[\"InstallYea\"]<1950].plot(color=color,label=ctype, ax=ax)\n",
    "    data[data[\"InstallYea\"]<1975].plot(color=color,label=ctype,ax=bx)\n",
    "    data[data[\"InstallYea\"]<2000].plot(color=color,label=ctype,ax=cx)\n",
    "    data.plot(color=color,label=ctype,ax=dx)\n",
    "\n",
    "    \n",
    "\n",
    "ax.legend(loc=2)\n",
    "\n",
    "ax.axis(\"off\")\n",
    "ax.set_title(\"<1950\")\n",
    "bx.axis(\"off\")\n",
    "bx.set_title(\"<1975\")\n",
    "cx.axis(\"off\")\n",
    "cx.set_title(\"<2000\")\n",
    "dx.axis(\"off\")\n",
    "dx.set_title(\"Current\")\n",
    "\n",
    "\n",
    "plt.tight_layout()\n",
    "\n",
    "fig.show()"
   ]
  },
  {
   "cell_type": "code",
   "execution_count": null,
   "metadata": {},
   "outputs": [],
   "source": []
  }
 ],
 "metadata": {
  "kernelspec": {
   "display_name": "Python 3",
   "language": "python",
   "name": "python3"
  },
  "language_info": {
   "codemirror_mode": {
    "name": "ipython",
    "version": 3
   },
   "file_extension": ".py",
   "mimetype": "text/x-python",
   "name": "python",
   "nbconvert_exporter": "python",
   "pygments_lexer": "ipython3",
   "version": "3.6.9"
  }
 },
 "nbformat": 4,
 "nbformat_minor": 4
}
