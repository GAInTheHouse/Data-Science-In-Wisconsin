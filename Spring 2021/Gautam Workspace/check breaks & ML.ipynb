{
 "cells": [
  {
   "cell_type": "code",
   "execution_count": 1,
   "metadata": {},
   "outputs": [],
   "source": [
    "import pandas as pd\n",
    "import matplotlib\n",
    "from matplotlib import pyplot as plt\n",
    "import geopandas\n",
    "import re\n",
    "from collections import defaultdict"
   ]
  },
  {
   "cell_type": "code",
   "execution_count": 2,
   "metadata": {},
   "outputs": [],
   "source": [
    "df = geopandas.read_file(\"water_mains_with_roads.zip\")"
   ]
  },
  {
   "cell_type": "code",
   "execution_count": 3,
   "metadata": {},
   "outputs": [
    {
     "data": {
      "text/plain": [
       "Index(['OBJECTID_r', 'segment_id', 'segment_na', 'from_segme', 'to_segment',\n",
       "       'pvmt_ratin', 'curb_ratin', 'index_righ', 'OBJECTID_b', 'MainID',\n",
       "       'street_nam', 'street_typ', 'StreetSegm', 'break_date', 'break_year',\n",
       "       'break_mont', 'break_day', 'pipe_size', 'pipe_depth', 'soil_type',\n",
       "       'materials_', 'TotalHours', 'street_dir', 'Location', 'time_recei',\n",
       "       'time_at_sc', 'time_off', 'time_on', 'num_bldgs_', 'frost_dept',\n",
       "       'FacilityID', 'MainRetire', 'BreakID', 'BreakType', 'OBJECTID_a',\n",
       "       'InstallYea', 'Lifecycle', 'Diameter', 'Material', 'Bagged',\n",
       "       'LiningType', 'Shape_STLe', 'geometry'],\n",
       "      dtype='object')"
      ]
     },
     "execution_count": 3,
     "metadata": {},
     "output_type": "execute_result"
    }
   ],
   "source": [
    "df.columns"
   ]
  },
  {
   "cell_type": "code",
   "execution_count": 4,
   "metadata": {},
   "outputs": [],
   "source": [
    "df = df.drop_duplicates(subset = \"OBJECTID_b\",keep = \"first\").copy()\n",
    "df[\"break_mont\"] = df.break_date.str.extract(\"(\\d{4})-(\\d{2})-(\\d{2})\")[1].astype(float)\n",
    "df[\"break_day\"] = df.break_date.str.extract(\"(\\d{4})-(\\d{2})-(\\d{2})\")[2].astype(float)"
   ]
  },
  {
   "cell_type": "code",
   "execution_count": 5,
   "metadata": {},
   "outputs": [],
   "source": [
    "df = df[df[\"break_year\"]>1000].copy()"
   ]
  },
  {
   "cell_type": "code",
   "execution_count": 6,
   "metadata": {},
   "outputs": [],
   "source": [
    "#return True if broken prior or at that year given\n",
    "def has_broken_prior(small_df, year):\n",
    "    if len(small_df)==0:\n",
    "        return False\n",
    "    if small_df[\"break_year\"].min() <= year:\n",
    "        return True\n",
    "    return False"
   ]
  },
  {
   "cell_type": "code",
   "execution_count": 7,
   "metadata": {},
   "outputs": [],
   "source": [
    "#counting from the beginning of the year, check if it breaks within that interval\n",
    "#2001, 3 return True if break happens in either 2001,2002,2003\n",
    "def breaks_in_interval(all_yrs, year,interval):\n",
    "    for i in range(year, year+interval):\n",
    "        if i in all_yrs:\n",
    "            return True\n",
    "    return False"
   ]
  },
  {
   "cell_type": "code",
   "execution_count": 8,
   "metadata": {},
   "outputs": [],
   "source": [
    "a = ['OBJECTID_r','segment_id','segment_na','from_segme','to_segment','pvmt_ratin','curb_ratin',\n",
    "     'geometry','Install_year','CI','DI','SPUN','SAND']\n",
    "a.append(\"prior_breaks\")\n",
    "a.append(\"y\")"
   ]
  },
  {
   "cell_type": "code",
   "execution_count": 26,
   "metadata": {},
   "outputs": [],
   "source": [
    "segment_list = list(set(df[\"OBJECTID_r\"]))\n",
    "ml_df = pd.DataFrame(columns = a)\n",
    "yes = 0\n",
    "no = 0"
   ]
  },
  {
   "cell_type": "code",
   "execution_count": 27,
   "metadata": {},
   "outputs": [],
   "source": [
    "def add_to_ml_df(sgm,all_records,year1,year2):\n",
    "    global already_broken\n",
    "    global ml_df\n",
    "    row = all_records[['OBJECTID_r','segment_id','segment_na','from_segme','to_segment','pvmt_ratin','curb_ratin','geometry']].iloc[0,]\n",
    "    row[\"Install_year\"] = all_records[\"InstallYea\"].unique().mean()\n",
    "    for m in [\"CI\",\"DI\",\"SPUN\",\"SAND\"]:\n",
    "        row[m] = int(m in all_records[\"Material\"].values)\n",
    "    last_break_year = None\n",
    "    for year in range(year1,year2):\n",
    "        y = breaks_in_interval(all_records[\"break_year\"].values,year,interval)\n",
    "        temp = all_records[all_records[\"break_year\"]==year]\n",
    "        if len(temp)!=0:\n",
    "            last_break_year = year\n",
    "            for idx in temp.index:\n",
    "                ml_df = ml_df.append(pd.concat([row,pd.Series({\"year\":year,\"last_break_yr\":last_break_year,\"prior_breaks\":already_broken[sgm],\"y\":y})]),ignore_index = True)\n",
    "                already_broken[sgm] += 1\n",
    "        else:\n",
    "            ml_df = ml_df.append(pd.concat([row,pd.Series({\"year\":year,\"last_break_yr\":last_break_year,\"prior_breaks\":already_broken[sgm],\"y\":y})]),ignore_index = True)"
   ]
  },
  {
   "cell_type": "code",
   "execution_count": 28,
   "metadata": {
    "scrolled": true
   },
   "outputs": [],
   "source": [
    "start_year = 1980\n",
    "end_year = 2020\n",
    "interval = 20\n",
    "already_broken = defaultdict(int)\n",
    "for sgm in segment_list:\n",
    "    all_records = df[(df[\"OBJECTID_r\"]==sgm) & (df[\"break_year\"].notnull())].copy()\n",
    "    all_records.sort_values(by = \"break_year\",inplace = True)\n",
    "    for year in range(start_year,end_year+1-interval):\n",
    "        if not has_broken_prior(all_records,year):\n",
    "            if breaks_in_interval(all_records[\"break_year\"].values,year+1,interval):\n",
    "                yes +=1\n",
    "                break\n",
    "            else:\n",
    "                no +=1\n",
    "        else:\n",
    "            add_to_ml_df(sgm,all_records,year,end_year+1-interval)\n",
    "            break "
   ]
  },
  {
   "cell_type": "code",
   "execution_count": 29,
   "metadata": {
    "scrolled": true
   },
   "outputs": [
    {
     "data": {
      "text/html": [
       "<div>\n",
       "<style scoped>\n",
       "    .dataframe tbody tr th:only-of-type {\n",
       "        vertical-align: middle;\n",
       "    }\n",
       "\n",
       "    .dataframe tbody tr th {\n",
       "        vertical-align: top;\n",
       "    }\n",
       "\n",
       "    .dataframe thead th {\n",
       "        text-align: right;\n",
       "    }\n",
       "</style>\n",
       "<table border=\"1\" class=\"dataframe\">\n",
       "  <thead>\n",
       "    <tr style=\"text-align: right;\">\n",
       "      <th></th>\n",
       "      <th>OBJECTID_r</th>\n",
       "      <th>segment_id</th>\n",
       "      <th>segment_na</th>\n",
       "      <th>from_segme</th>\n",
       "      <th>to_segment</th>\n",
       "      <th>pvmt_ratin</th>\n",
       "      <th>curb_ratin</th>\n",
       "      <th>geometry</th>\n",
       "      <th>Install_year</th>\n",
       "      <th>CI</th>\n",
       "      <th>DI</th>\n",
       "      <th>SPUN</th>\n",
       "      <th>SAND</th>\n",
       "      <th>prior_breaks</th>\n",
       "      <th>y</th>\n",
       "      <th>last_break_yr</th>\n",
       "      <th>year</th>\n",
       "    </tr>\n",
       "  </thead>\n",
       "  <tbody>\n",
       "    <tr>\n",
       "      <th>0</th>\n",
       "      <td>746</td>\n",
       "      <td>08072</td>\n",
       "      <td>W SKYLINE DR</td>\n",
       "      <td>S HIGHLANDS AVE</td>\n",
       "      <td>E SKYLINE DR</td>\n",
       "      <td>4.0</td>\n",
       "      <td>0.0</td>\n",
       "      <td>LINESTRING (792803.8145548572 485679.681359891...</td>\n",
       "      <td>1958.000000</td>\n",
       "      <td>1</td>\n",
       "      <td>0</td>\n",
       "      <td>0</td>\n",
       "      <td>0</td>\n",
       "      <td>0</td>\n",
       "      <td>True</td>\n",
       "      <td>1980.0</td>\n",
       "      <td>1980.0</td>\n",
       "    </tr>\n",
       "    <tr>\n",
       "      <th>1</th>\n",
       "      <td>746</td>\n",
       "      <td>08072</td>\n",
       "      <td>W SKYLINE DR</td>\n",
       "      <td>S HIGHLANDS AVE</td>\n",
       "      <td>E SKYLINE DR</td>\n",
       "      <td>4.0</td>\n",
       "      <td>0.0</td>\n",
       "      <td>LINESTRING (792803.8145548572 485679.681359891...</td>\n",
       "      <td>1958.000000</td>\n",
       "      <td>1</td>\n",
       "      <td>0</td>\n",
       "      <td>0</td>\n",
       "      <td>0</td>\n",
       "      <td>1</td>\n",
       "      <td>True</td>\n",
       "      <td>1980.0</td>\n",
       "      <td>1981.0</td>\n",
       "    </tr>\n",
       "    <tr>\n",
       "      <th>2</th>\n",
       "      <td>746</td>\n",
       "      <td>08072</td>\n",
       "      <td>W SKYLINE DR</td>\n",
       "      <td>S HIGHLANDS AVE</td>\n",
       "      <td>E SKYLINE DR</td>\n",
       "      <td>4.0</td>\n",
       "      <td>0.0</td>\n",
       "      <td>LINESTRING (792803.8145548572 485679.681359891...</td>\n",
       "      <td>1958.000000</td>\n",
       "      <td>1</td>\n",
       "      <td>0</td>\n",
       "      <td>0</td>\n",
       "      <td>0</td>\n",
       "      <td>1</td>\n",
       "      <td>True</td>\n",
       "      <td>1980.0</td>\n",
       "      <td>1982.0</td>\n",
       "    </tr>\n",
       "    <tr>\n",
       "      <th>3</th>\n",
       "      <td>746</td>\n",
       "      <td>08072</td>\n",
       "      <td>W SKYLINE DR</td>\n",
       "      <td>S HIGHLANDS AVE</td>\n",
       "      <td>E SKYLINE DR</td>\n",
       "      <td>4.0</td>\n",
       "      <td>0.0</td>\n",
       "      <td>LINESTRING (792803.8145548572 485679.681359891...</td>\n",
       "      <td>1958.000000</td>\n",
       "      <td>1</td>\n",
       "      <td>0</td>\n",
       "      <td>0</td>\n",
       "      <td>0</td>\n",
       "      <td>1</td>\n",
       "      <td>True</td>\n",
       "      <td>1983.0</td>\n",
       "      <td>1983.0</td>\n",
       "    </tr>\n",
       "    <tr>\n",
       "      <th>4</th>\n",
       "      <td>746</td>\n",
       "      <td>08072</td>\n",
       "      <td>W SKYLINE DR</td>\n",
       "      <td>S HIGHLANDS AVE</td>\n",
       "      <td>E SKYLINE DR</td>\n",
       "      <td>4.0</td>\n",
       "      <td>0.0</td>\n",
       "      <td>LINESTRING (792803.8145548572 485679.681359891...</td>\n",
       "      <td>1958.000000</td>\n",
       "      <td>1</td>\n",
       "      <td>0</td>\n",
       "      <td>0</td>\n",
       "      <td>0</td>\n",
       "      <td>2</td>\n",
       "      <td>True</td>\n",
       "      <td>1983.0</td>\n",
       "      <td>1984.0</td>\n",
       "    </tr>\n",
       "    <tr>\n",
       "      <th>...</th>\n",
       "      <td>...</td>\n",
       "      <td>...</td>\n",
       "      <td>...</td>\n",
       "      <td>...</td>\n",
       "      <td>...</td>\n",
       "      <td>...</td>\n",
       "      <td>...</td>\n",
       "      <td>...</td>\n",
       "      <td>...</td>\n",
       "      <td>...</td>\n",
       "      <td>...</td>\n",
       "      <td>...</td>\n",
       "      <td>...</td>\n",
       "      <td>...</td>\n",
       "      <td>...</td>\n",
       "      <td>...</td>\n",
       "      <td>...</td>\n",
       "    </tr>\n",
       "    <tr>\n",
       "      <th>2660</th>\n",
       "      <td>7792</td>\n",
       "      <td>07106</td>\n",
       "      <td>RIDGEWAY AVE</td>\n",
       "      <td>MENDOTA ST</td>\n",
       "      <td>711 FT NE OF MENDOTA ST</td>\n",
       "      <td>5.0</td>\n",
       "      <td>0.0</td>\n",
       "      <td>LINESTRING (837661.8373721254 499219.402311868...</td>\n",
       "      <td>1975.333333</td>\n",
       "      <td>1</td>\n",
       "      <td>1</td>\n",
       "      <td>1</td>\n",
       "      <td>0</td>\n",
       "      <td>3</td>\n",
       "      <td>True</td>\n",
       "      <td>1993.0</td>\n",
       "      <td>1996.0</td>\n",
       "    </tr>\n",
       "    <tr>\n",
       "      <th>2661</th>\n",
       "      <td>7792</td>\n",
       "      <td>07106</td>\n",
       "      <td>RIDGEWAY AVE</td>\n",
       "      <td>MENDOTA ST</td>\n",
       "      <td>711 FT NE OF MENDOTA ST</td>\n",
       "      <td>5.0</td>\n",
       "      <td>0.0</td>\n",
       "      <td>LINESTRING (837661.8373721254 499219.402311868...</td>\n",
       "      <td>1975.333333</td>\n",
       "      <td>1</td>\n",
       "      <td>1</td>\n",
       "      <td>1</td>\n",
       "      <td>0</td>\n",
       "      <td>3</td>\n",
       "      <td>True</td>\n",
       "      <td>1997.0</td>\n",
       "      <td>1997.0</td>\n",
       "    </tr>\n",
       "    <tr>\n",
       "      <th>2662</th>\n",
       "      <td>7792</td>\n",
       "      <td>07106</td>\n",
       "      <td>RIDGEWAY AVE</td>\n",
       "      <td>MENDOTA ST</td>\n",
       "      <td>711 FT NE OF MENDOTA ST</td>\n",
       "      <td>5.0</td>\n",
       "      <td>0.0</td>\n",
       "      <td>LINESTRING (837661.8373721254 499219.402311868...</td>\n",
       "      <td>1975.333333</td>\n",
       "      <td>1</td>\n",
       "      <td>1</td>\n",
       "      <td>1</td>\n",
       "      <td>0</td>\n",
       "      <td>4</td>\n",
       "      <td>True</td>\n",
       "      <td>1998.0</td>\n",
       "      <td>1998.0</td>\n",
       "    </tr>\n",
       "    <tr>\n",
       "      <th>2663</th>\n",
       "      <td>7792</td>\n",
       "      <td>07106</td>\n",
       "      <td>RIDGEWAY AVE</td>\n",
       "      <td>MENDOTA ST</td>\n",
       "      <td>711 FT NE OF MENDOTA ST</td>\n",
       "      <td>5.0</td>\n",
       "      <td>0.0</td>\n",
       "      <td>LINESTRING (837661.8373721254 499219.402311868...</td>\n",
       "      <td>1975.333333</td>\n",
       "      <td>1</td>\n",
       "      <td>1</td>\n",
       "      <td>1</td>\n",
       "      <td>0</td>\n",
       "      <td>5</td>\n",
       "      <td>True</td>\n",
       "      <td>1998.0</td>\n",
       "      <td>1999.0</td>\n",
       "    </tr>\n",
       "    <tr>\n",
       "      <th>2664</th>\n",
       "      <td>7792</td>\n",
       "      <td>07106</td>\n",
       "      <td>RIDGEWAY AVE</td>\n",
       "      <td>MENDOTA ST</td>\n",
       "      <td>711 FT NE OF MENDOTA ST</td>\n",
       "      <td>5.0</td>\n",
       "      <td>0.0</td>\n",
       "      <td>LINESTRING (837661.8373721254 499219.402311868...</td>\n",
       "      <td>1975.333333</td>\n",
       "      <td>1</td>\n",
       "      <td>1</td>\n",
       "      <td>1</td>\n",
       "      <td>0</td>\n",
       "      <td>5</td>\n",
       "      <td>True</td>\n",
       "      <td>1998.0</td>\n",
       "      <td>2000.0</td>\n",
       "    </tr>\n",
       "  </tbody>\n",
       "</table>\n",
       "<p>2665 rows × 17 columns</p>\n",
       "</div>"
      ],
      "text/plain": [
       "     OBJECTID_r segment_id    segment_na       from_segme  \\\n",
       "0           746      08072  W SKYLINE DR  S HIGHLANDS AVE   \n",
       "1           746      08072  W SKYLINE DR  S HIGHLANDS AVE   \n",
       "2           746      08072  W SKYLINE DR  S HIGHLANDS AVE   \n",
       "3           746      08072  W SKYLINE DR  S HIGHLANDS AVE   \n",
       "4           746      08072  W SKYLINE DR  S HIGHLANDS AVE   \n",
       "...         ...        ...           ...              ...   \n",
       "2660       7792      07106  RIDGEWAY AVE       MENDOTA ST   \n",
       "2661       7792      07106  RIDGEWAY AVE       MENDOTA ST   \n",
       "2662       7792      07106  RIDGEWAY AVE       MENDOTA ST   \n",
       "2663       7792      07106  RIDGEWAY AVE       MENDOTA ST   \n",
       "2664       7792      07106  RIDGEWAY AVE       MENDOTA ST   \n",
       "\n",
       "                   to_segment  pvmt_ratin  curb_ratin  \\\n",
       "0                E SKYLINE DR         4.0         0.0   \n",
       "1                E SKYLINE DR         4.0         0.0   \n",
       "2                E SKYLINE DR         4.0         0.0   \n",
       "3                E SKYLINE DR         4.0         0.0   \n",
       "4                E SKYLINE DR         4.0         0.0   \n",
       "...                       ...         ...         ...   \n",
       "2660  711 FT NE OF MENDOTA ST         5.0         0.0   \n",
       "2661  711 FT NE OF MENDOTA ST         5.0         0.0   \n",
       "2662  711 FT NE OF MENDOTA ST         5.0         0.0   \n",
       "2663  711 FT NE OF MENDOTA ST         5.0         0.0   \n",
       "2664  711 FT NE OF MENDOTA ST         5.0         0.0   \n",
       "\n",
       "                                               geometry  Install_year CI DI  \\\n",
       "0     LINESTRING (792803.8145548572 485679.681359891...   1958.000000  1  0   \n",
       "1     LINESTRING (792803.8145548572 485679.681359891...   1958.000000  1  0   \n",
       "2     LINESTRING (792803.8145548572 485679.681359891...   1958.000000  1  0   \n",
       "3     LINESTRING (792803.8145548572 485679.681359891...   1958.000000  1  0   \n",
       "4     LINESTRING (792803.8145548572 485679.681359891...   1958.000000  1  0   \n",
       "...                                                 ...           ... .. ..   \n",
       "2660  LINESTRING (837661.8373721254 499219.402311868...   1975.333333  1  1   \n",
       "2661  LINESTRING (837661.8373721254 499219.402311868...   1975.333333  1  1   \n",
       "2662  LINESTRING (837661.8373721254 499219.402311868...   1975.333333  1  1   \n",
       "2663  LINESTRING (837661.8373721254 499219.402311868...   1975.333333  1  1   \n",
       "2664  LINESTRING (837661.8373721254 499219.402311868...   1975.333333  1  1   \n",
       "\n",
       "     SPUN SAND prior_breaks     y  last_break_yr    year  \n",
       "0       0    0            0  True         1980.0  1980.0  \n",
       "1       0    0            1  True         1980.0  1981.0  \n",
       "2       0    0            1  True         1980.0  1982.0  \n",
       "3       0    0            1  True         1983.0  1983.0  \n",
       "4       0    0            2  True         1983.0  1984.0  \n",
       "...   ...  ...          ...   ...            ...     ...  \n",
       "2660    1    0            3  True         1993.0  1996.0  \n",
       "2661    1    0            3  True         1997.0  1997.0  \n",
       "2662    1    0            4  True         1998.0  1998.0  \n",
       "2663    1    0            5  True         1998.0  1999.0  \n",
       "2664    1    0            5  True         1998.0  2000.0  \n",
       "\n",
       "[2665 rows x 17 columns]"
      ]
     },
     "execution_count": 29,
     "metadata": {},
     "output_type": "execute_result"
    }
   ],
   "source": [
    "ml_df"
   ]
  },
  {
   "cell_type": "code",
   "execution_count": 30,
   "metadata": {},
   "outputs": [
    {
     "data": {
      "text/plain": [
       "2154"
      ]
     },
     "execution_count": 30,
     "metadata": {},
     "output_type": "execute_result"
    }
   ],
   "source": [
    "yes"
   ]
  },
  {
   "cell_type": "code",
   "execution_count": 31,
   "metadata": {
    "scrolled": true
   },
   "outputs": [
    {
     "data": {
      "text/plain": [
       "9830"
      ]
     },
     "execution_count": 31,
     "metadata": {},
     "output_type": "execute_result"
    }
   ],
   "source": [
    "no"
   ]
  },
  {
   "cell_type": "code",
   "execution_count": 32,
   "metadata": {},
   "outputs": [
    {
     "data": {
      "text/plain": [
       "0.21912512716174976"
      ]
     },
     "execution_count": 32,
     "metadata": {},
     "output_type": "execute_result"
    }
   ],
   "source": [
    "yes/no"
   ]
  },
  {
   "cell_type": "code",
   "execution_count": 33,
   "metadata": {},
   "outputs": [],
   "source": [
    "ml_df.to_csv(\"ML_20yr_dataset.csv\")"
   ]
  },
  {
   "cell_type": "code",
   "execution_count": null,
   "metadata": {},
   "outputs": [],
   "source": []
  }
 ],
 "metadata": {
  "kernelspec": {
   "display_name": "Python 3",
   "language": "python",
   "name": "python3"
  },
  "language_info": {
   "codemirror_mode": {
    "name": "ipython",
    "version": 3
   },
   "file_extension": ".py",
   "mimetype": "text/x-python",
   "name": "python",
   "nbconvert_exporter": "python",
   "pygments_lexer": "ipython3",
   "version": "3.6.9"
  }
 },
 "nbformat": 4,
 "nbformat_minor": 4
}
